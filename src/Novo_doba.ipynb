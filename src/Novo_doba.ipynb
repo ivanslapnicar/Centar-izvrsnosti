{
 "cells": [
  {
   "cell_type": "markdown",
   "metadata": {
    "nbpresent": {
     "id": "c8a714c5-14b1-4002-862d-8f81edb5674c"
    },
    "slideshow": {
     "slide_type": "slide"
    }
   },
   "source": [
    "# Novo doba\n",
    "\n",
    "_Predavanje na otvorenju Centra izvrsnosti iz matematike Splitsko-dalmatinske županije_\n",
    "\n",
    "Ivan Slapničar, Sveučilište u Splitu, FESB\n",
    "\n"
   ]
  },
  {
   "cell_type": "markdown",
   "metadata": {
    "nbpresent": {
     "id": "fc9bb354-30c5-40b2-b569-1a31452ff488"
    },
    "slideshow": {
     "slide_type": "slide"
    }
   },
   "source": [
    "## Poruke\n",
    "\n",
    "Lako - Teško (u svemu!)\n",
    "\n",
    "Sada - doba __pretraživanja__ -> _matematika_\n",
    "\n",
    "Dolazi - doba __preporuka__  -> _matematika_\n",
    "\n",
    "(BigData, nova tehnologija)\n"
   ]
  },
  {
   "cell_type": "markdown",
   "metadata": {
    "collapsed": true,
    "nbpresent": {
     "id": "4c3647c8-bf68-4fc7-9494-d11fdb86327f"
    }
   },
   "source": [
    "## Lako - teško\n",
    "\n",
    "vaganje:  1 _kg_  -> 1 _kg_ $\\pm$ 0.000000001 _kg_\n",
    "\n",
    "trčanje: 100 _m_ -> 42,195 _m_ ili 100 _m_ < 10 _sek_\n",
    "\n",
    "zadaci iz matematike: test za CI -> državno natjecanje ([2016](http://natjecanja.math.hr/drzavno-natjecanje/drzavno-2016/) ili [sve](http://www.antonija-horvatek.from.hr/natjecanja-iz-matematike/zadaci-SS.htm)), ili [matematička olimpijada](http://www.imo-official.org/)"
   ]
  },
  {
   "cell_type": "markdown",
   "metadata": {
    "nbpresent": {
     "id": "d194cf53-622d-4d19-a5ea-7bfb4e7cedf1"
    }
   },
   "source": [
    "## Doba pretraživanja\n",
    "\n",
    "google (i ostali)\n",
    "\n",
    "\n",
    "* [50 milijardi stranica](http://www.worldwidewebsize.com/), [3.5 milijarde pretraživanja dnevno](http://www.internetlivestats.com/google-search-statistics/)\n",
    "* __PageRank__\n",
    "* povijest, kontekst - cookies, spremanje podataka (o vama), [200+ parametara](http://backlinko.com/google-ranking-factors)"
   ]
  },
  {
   "cell_type": "markdown",
   "metadata": {
    "nbpresent": {
     "id": "ec4afe08-74b2-4219-b379-b3a4cfb185c9"
    }
   },
   "source": [
    "## PageRank\n",
    "\n",
    "* Teorija grafova i linearna algebra\n",
    "* [C, Moler, Google PageRank][Mol11]\n",
    "\n",
    "\n",
    "[Mol11]: https://www.mathworks.com/moler/exm/chapters/pagerank.pdf \"C, Moler, 'Google PageRank', mathWorks, 2011.\"\n"
   ]
  },
  {
   "cell_type": "code",
   "execution_count": 26,
   "metadata": {
    "collapsed": false,
    "nbpresent": {
     "id": "339964f2-eba2-40c6-bc72-08687a1d486e"
    }
   },
   "outputs": [
    {
     "data": {
      "text/plain": [
       "6×6 sparse matrix with 9 Float64 nonzero entries:\n",
       "\t[2, 1]  =  1.0\n",
       "\t[6, 1]  =  1.0\n",
       "\t[3, 2]  =  1.0\n",
       "\t[4, 2]  =  1.0\n",
       "\t[4, 3]  =  1.0\n",
       "\t[5, 3]  =  1.0\n",
       "\t[6, 3]  =  1.0\n",
       "\t[1, 4]  =  1.0\n",
       "\t[1, 6]  =  1.0"
      ]
     },
     "execution_count": 26,
     "metadata": {},
     "output_type": "execute_result"
    }
   ],
   "source": [
    "i = vec([ 2 6 3 4 4 5 6 1 1])\n",
    "j = vec([ 1 1 2 2 3 3 3 4 6])\n",
    "G=sparse(i,j,1.0)"
   ]
  },
  {
   "cell_type": "code",
   "execution_count": 27,
   "metadata": {
    "collapsed": false,
    "nbpresent": {
     "id": "a61a812c-8380-4789-9685-819fdb925442"
    }
   },
   "outputs": [
    {
     "data": {
      "text/plain": [
       "6×6 Array{Float64,2}:\n",
       " 0.0  0.0  0.0  1.0  0.0  1.0\n",
       " 1.0  0.0  0.0  0.0  0.0  0.0\n",
       " 0.0  1.0  0.0  0.0  0.0  0.0\n",
       " 0.0  1.0  1.0  0.0  0.0  0.0\n",
       " 0.0  0.0  1.0  0.0  0.0  0.0\n",
       " 1.0  0.0  1.0  0.0  0.0  0.0"
      ]
     },
     "execution_count": 27,
     "metadata": {},
     "output_type": "execute_result"
    }
   ],
   "source": [
    "full(G)"
   ]
  },
  {
   "cell_type": "markdown",
   "metadata": {
    "nbpresent": {
     "id": "303bcbc1-fb7d-41a5-9d65-e599645bcca6"
    }
   },
   "source": [
    "Na graf primijenimo slučajnu šetnju (_random walk_)- vjerojatnost da pratimo bilo koji link je jednaka:"
   ]
  },
  {
   "cell_type": "code",
   "execution_count": 28,
   "metadata": {
    "collapsed": false,
    "nbpresent": {
     "id": "4ca78374-00d1-4c7a-af63-28daa0b57223"
    }
   },
   "outputs": [
    {
     "data": {
      "text/plain": [
       "6×6 Array{Float64,2}:\n",
       " 0.0  0.0  0.0       1.0  0.0  1.0\n",
       " 0.5  0.0  0.0       0.0  0.0  0.0\n",
       " 0.0  0.5  0.0       0.0  0.0  0.0\n",
       " 0.0  0.5  0.333333  0.0  0.0  0.0\n",
       " 0.0  0.0  0.333333  0.0  0.0  0.0\n",
       " 0.5  0.0  0.333333  0.0  0.0  0.0"
      ]
     },
     "execution_count": 28,
     "metadata": {},
     "output_type": "execute_result"
    }
   ],
   "source": [
    "c=sum(G,1)\n",
    "n=size(G,1)\n",
    "for j=1:n\n",
    "    if c[j]>0\n",
    "        G[:,j]=G[:,j]/c[j]\n",
    "    end\n",
    "end\n",
    "full(G)"
   ]
  },
  {
   "cell_type": "markdown",
   "metadata": {
    "nbpresent": {
     "id": "c82e5cb0-d85d-41df-abdf-5ae6bdab7ccd"
    }
   },
   "source": [
    "* $p$: vjerojatnost da pratimo neki link\n",
    "* $1-p$:  je vjerojatnost da odemo na neku drugu slučajnu stranicu\n",
    "* google koristi $p=0.85$ ?"
   ]
  },
  {
   "cell_type": "code",
   "execution_count": 29,
   "metadata": {
    "collapsed": false,
    "nbpresent": {
     "id": "799e14b7-f4a0-4f55-a8f8-fc821ce0fd93"
    }
   },
   "outputs": [
    {
     "data": {
      "text/plain": [
       "6×6 Array{Float64,2}:\n",
       " 0.025  0.025  0.025     0.875  0.166667  0.875\n",
       " 0.45   0.025  0.025     0.025  0.166667  0.025\n",
       " 0.025  0.45   0.025     0.025  0.166667  0.025\n",
       " 0.025  0.45   0.308333  0.025  0.166667  0.025\n",
       " 0.025  0.025  0.308333  0.025  0.166667  0.025\n",
       " 0.45   0.025  0.308333  0.025  0.166667  0.025"
      ]
     },
     "execution_count": 29,
     "metadata": {},
     "output_type": "execute_result"
    }
   ],
   "source": [
    "p=0.85\n",
    "z = ((1-p)*(c.!=0) + (c.==0))/n\n",
    "A=p*G+ones(n)*z"
   ]
  },
  {
   "cell_type": "markdown",
   "metadata": {
    "nbpresent": {
     "id": "96822e37-d2f5-4503-9655-e6040556107e"
    }
   },
   "source": [
    "Pokrenimo slučajnu šetnju od vektora $x_0=\\begin{bmatrix} 1/n \\\\ 1/n \\\\ \\vdots \\\\ 1/n \\end{bmatrix}$.\n",
    "\n",
    "Sljedeći vektori u nizu su \n",
    "\n",
    "$$\n",
    "x_1=A\\cdot x_0 \\\\\n",
    "x_2=A\\cdot x_1 \\\\\n",
    "x_3=A\\cdot x_2\\\\\n",
    "\\vdots\n",
    "$$\n",
    "\n",
    "Kada se algoritam stabilizira, odnosno kada je \n",
    "\n",
    "$$\n",
    "A\\cdot x\\approx x,\n",
    "$$\n",
    "\n",
    "tada je element vektora $x[i]$ __rang stranice__ $i$."
   ]
  },
  {
   "cell_type": "code",
   "execution_count": 13,
   "metadata": {
    "collapsed": false,
    "nbpresent": {
     "id": "93956a24-6b26-4e59-9921-05164b0826a6"
    }
   },
   "outputs": [
    {
     "data": {
      "text/plain": [
       "myPageRank (generic function with 1 method)"
      ]
     },
     "execution_count": 13,
     "metadata": {},
     "output_type": "execute_result"
    }
   ],
   "source": [
    "function myPageRank(G::SparseMatrixCSC{Float64,Int64},steps::Int)\n",
    "    p=0.85\n",
    "    c=sum(G,1)/p\n",
    "    n=size(G,1)\n",
    "    for i=1:n\n",
    "        G.nzval[G.colptr[i]:G.colptr[i+1]-1]./=c[i]\n",
    "    end\n",
    "    e=ones(n)\n",
    "    x=e/n\n",
    "    z = vec(((1-p)*(c.!=0) + (c.==0))/n)\n",
    "    for j=1:steps\n",
    "        x=G*x+(z⋅x)\n",
    "    end\n",
    "    x/norm(x,1)\n",
    "end"
   ]
  },
  {
   "cell_type": "code",
   "execution_count": 15,
   "metadata": {
    "collapsed": false,
    "nbpresent": {
     "id": "f0505634-c456-47dd-a4fe-0a6a86388b81"
    }
   },
   "outputs": [
    {
     "data": {
      "text/plain": [
       "6-element Array{Float64,1}:\n",
       " 0.321024 \n",
       " 0.170538 \n",
       " 0.106596 \n",
       " 0.136795 \n",
       " 0.0643103\n",
       " 0.200737 "
      ]
     },
     "execution_count": 15,
     "metadata": {},
     "output_type": "execute_result"
    }
   ],
   "source": [
    "myPageRank(G,15)"
   ]
  },
  {
   "cell_type": "markdown",
   "metadata": {
    "nbpresent": {
     "id": "c9bf7ecc-5c51-4cb3-9747-dd4bda11560f"
    }
   },
   "source": [
    "### [Stanford web graph](http://snap.stanford.edu/data/web-Stanford.html)\n",
    "\n",
    "Malo veći testni problem."
   ]
  },
  {
   "cell_type": "code",
   "execution_count": 18,
   "metadata": {
    "collapsed": false,
    "nbpresent": {
     "id": "637112da-d944-4bce-a751-e8a95f9014a2"
    }
   },
   "outputs": [
    {
     "data": {
      "text/plain": [
       "2312497×2 Array{Int64,2}:\n",
       "      1    6548\n",
       "      1   15409\n",
       "   6548   57031\n",
       "  15409   13102\n",
       "      2   17794\n",
       "      2   25202\n",
       "      2   53625\n",
       "      2   54582\n",
       "      2   64930\n",
       "      2   73764\n",
       "      2   84477\n",
       "      2   98628\n",
       "      2  100193\n",
       "      ⋮        \n",
       " 281849  165189\n",
       " 281849  177014\n",
       " 281849  226290\n",
       " 281849  243180\n",
       " 281849  244195\n",
       " 281849  247252\n",
       " 281849  281568\n",
       " 281865  186750\n",
       " 281865  225872\n",
       " 281888  114388\n",
       " 281888  192969\n",
       " 281888  233184"
      ]
     },
     "execution_count": 18,
     "metadata": {},
     "output_type": "execute_result"
    }
   ],
   "source": [
    "W=readdlm(\"web-Stanford.txt\",Int)"
   ]
  },
  {
   "cell_type": "code",
   "execution_count": 19,
   "metadata": {
    "collapsed": false,
    "nbpresent": {
     "id": "cd7c4a66-da5a-4f42-8cd0-f4cff46120df"
    }
   },
   "outputs": [
    {
     "data": {
      "text/plain": [
       "281903×281903 sparse matrix with 2312497 Float64 nonzero entries:\n",
       "\t[6548  ,      1]  =  1.0\n",
       "\t[15409 ,      1]  =  1.0\n",
       "\t[17794 ,      2]  =  1.0\n",
       "\t[25202 ,      2]  =  1.0\n",
       "\t[53625 ,      2]  =  1.0\n",
       "\t[54582 ,      2]  =  1.0\n",
       "\t[64930 ,      2]  =  1.0\n",
       "\t[73764 ,      2]  =  1.0\n",
       "\t[84477 ,      2]  =  1.0\n",
       "\t[98628 ,      2]  =  1.0\n",
       "\t⋮\n",
       "\t[168703, 281902]  =  1.0\n",
       "\t[180771, 281902]  =  1.0\n",
       "\t[266504, 281902]  =  1.0\n",
       "\t[275189, 281902]  =  1.0\n",
       "\t[44103 , 281903]  =  1.0\n",
       "\t[56088 , 281903]  =  1.0\n",
       "\t[90591 , 281903]  =  1.0\n",
       "\t[94440 , 281903]  =  1.0\n",
       "\t[216688, 281903]  =  1.0\n",
       "\t[256539, 281903]  =  1.0\n",
       "\t[260899, 281903]  =  1.0"
      ]
     },
     "execution_count": 19,
     "metadata": {},
     "output_type": "execute_result"
    }
   ],
   "source": [
    "S=sparse(W[:,2],W[:,1],1.0)"
   ]
  },
  {
   "cell_type": "code",
   "execution_count": 20,
   "metadata": {
    "collapsed": false,
    "nbpresent": {
     "id": "b5352330-ab91-41fe-824c-e5ccc2ace595"
    }
   },
   "outputs": [
    {
     "name": "stdout",
     "output_type": "stream",
     "text": [
      "  1.491916 seconds (846.80 k allocations: 542.598 MB, 11.86% gc time)\n"
     ]
    }
   ],
   "source": [
    "@time x100=myPageRank(S,100);"
   ]
  },
  {
   "cell_type": "code",
   "execution_count": 21,
   "metadata": {
    "collapsed": false,
    "nbpresent": {
     "id": "cc0d1a66-a69a-478f-8db8-e6a850725631"
    }
   },
   "outputs": [
    {
     "data": {
      "text/plain": [
       "2.349138102570129e-7"
      ]
     },
     "execution_count": 21,
     "metadata": {},
     "output_type": "execute_result"
    }
   ],
   "source": [
    "x101=myPageRank(S,101)\n",
    "maxabs((x100-x101)./x100)"
   ]
  },
  {
   "cell_type": "code",
   "execution_count": 25,
   "metadata": {
    "collapsed": false,
    "nbpresent": {
     "id": "7caf1ddf-e679-41b6-83ae-75260f278dac"
    }
   },
   "outputs": [
    {
     "data": {
      "text/plain": [
       "([89073,226411,241454,262860,134832,234704,136821,68889,105607,69358  …  281647,281700,281715,281728,281778,281785,281813,281849,281865,281888],[0.0113029,0.00926783,0.00829727,0.00302312,0.00300128,0.00257173,0.00245371,0.00243079,0.00239105,0.00236401  …  5.33369e-7,5.33369e-7,5.33369e-7,5.33369e-7,5.33369e-7,5.33369e-7,5.33369e-7,5.33369e-7,5.33369e-7,5.33369e-7])"
      ]
     },
     "execution_count": 25,
     "metadata": {},
     "output_type": "execute_result"
    }
   ],
   "source": [
    "sortperm(x100,rev=true), sort(x100,rev=true)"
   ]
  },
  {
   "cell_type": "markdown",
   "metadata": {
    "nbpresent": {
     "id": "8e161bdf-c2f4-457b-aa37-87cb7b94a62a"
    }
   },
   "source": [
    "## Doba preporuka \n",
    "\n",
    "NetFlix, Amazon Prime, PickBox, ... - on-line videoteke (filmovi i serije)\n",
    "\n",
    "[NetFlix](https://www.netflix.com/hr/)\n",
    "\n",
    " * [80 milijuna korisnika](https://www.statista.com/statistics/250934/quarterly-number-of-netflix-streaming-subscribers-worldwide/), 5.000 filmova\n",
    " * [NetFlix Prize](http://www.kdd.org/kdd2014/tutorials/KDD%20-%20The%20Recommender%20Problem%20Revisited.pdf)\n",
    " "
   ]
  },
  {
   "cell_type": "markdown",
   "metadata": {
    "nbpresent": {
     "id": "5bd4499f-d408-4ef5-873c-d2af140a3863"
    }
   },
   "source": [
    "## Matematika\n",
    "\n",
    "Netflix Recommendation Engine se temelji na aproksimaciji (velike i rijetke) matrice\n",
    "```\n",
    "M = Korisnici x Filmovi \n",
    "```\n",
    "pomoću rastava singularnih vrijednosti (SVD): \n",
    "\n",
    "* [IncrementalSVD.jl](https://github.com/aaw/IncrementalSVD.jl)\n",
    "* [A parallel recommendation engine in Julia](http://juliacomputing.com/blog/2016/04/22/a-parallel-recommendation-engine-in-julia.html)"
   ]
  },
  {
   "cell_type": "markdown",
   "metadata": {
    "nbpresent": {
     "id": "95e8dd12-5e61-4c6e-903e-21d9933c61d6"
    }
   },
   "source": [
    "## Sličnost\n",
    "\n",
    "Sličnost korisnika $i$ i $k$:\n",
    "\n",
    "$$\n",
    "\\cos \\angle (i,k)=\\frac{(M[i,:],M[k,:])}{\\|M[i,:]\\| \\cdot \\|M[k,:]\\|}\n",
    "$$\n",
    "\n",
    "Sličnost filmova $i$ i $k$:\n",
    "\n",
    "$$\n",
    "\\cos \\angle (i,k)=\\frac{(M[:,i],M[:,k)}{\\|M[:,i]\\| \\cdot \\|M[:,k]\\|}\n",
    "$$"
   ]
  },
  {
   "cell_type": "markdown",
   "metadata": {
    "nbpresent": {
     "id": "310609df-23c9-43d4-be57-c9e837921be5"
    }
   },
   "source": [
    "## Pretraživanje\n",
    "\n",
    "Redak $M[k,:]$ - što korisnik $k$ misli o filmovima.\n",
    "\n",
    "Stupac $M[:,f]$ - što o filmu $f$ misle korisnici\n",
    "\n",
    "Element $M[k,f]$ - što korisnik $k$ misli o filmu $f$."
   ]
  },
  {
   "cell_type": "markdown",
   "metadata": {},
   "source": [
    "## Problem\n",
    "\n",
    "Matrica $M$ je rijetka pa nemamo dovoljno informacija. Na primjer, \n",
    "\n",
    "```\n",
    "900188 ocjena  / ( 6040 korisnika x 3706 filmova ) = 4%\n",
    "```"
   ]
  },
  {
   "cell_type": "markdown",
   "metadata": {
    "nbpresent": {
     "id": "4944f869-4080-4947-a6ad-a08c3f2dc6b8"
    }
   },
   "source": [
    "## Aproksimacja\n",
    "\n",
    "SVD rastav $M=U\\Sigma V^T$ se aproksimira matricom jako malog ranga (npr. $m=25$)\n",
    "\n",
    "![SVD rastav](svd.png)\n",
    "\n",
    "Približna matrica je puna i daje dovoljno informacija.\n",
    "\n",
    "Efikasna aproksimacija? -> $\\$$ 1.000.000  "
   ]
  },
  {
   "cell_type": "code",
   "execution_count": 60,
   "metadata": {
    "collapsed": false,
    "nbpresent": {
     "id": "b668eb1e-a6ab-4765-b3cc-d146fd9af9b6"
    }
   },
   "outputs": [],
   "source": [
    "# Pkg.clone(\"git://github.com/aaw/IncrementalSVD.jl.git\")"
   ]
  },
  {
   "cell_type": "code",
   "execution_count": 44,
   "metadata": {
    "collapsed": false,
    "nbpresent": {
     "id": "bccc43b9-69b2-440e-a866-7deca5e28515"
    }
   },
   "outputs": [],
   "source": [
    "using IncrementalSVD"
   ]
  },
  {
   "cell_type": "code",
   "execution_count": 45,
   "metadata": {
    "collapsed": false,
    "nbpresent": {
     "id": "49fe305c-c879-4aa3-a255-53b3301f55ff"
    }
   },
   "outputs": [
    {
     "name": "stdout",
     "output_type": "stream",
     "text": [
      "                IncrementalSVD   6231 KB     Module\n",
      "                        Rating    136 bytes  DataType\n",
      "                     RatingSet    148 bytes  DataType\n",
      "                  RatingsModel    160 bytes  DataType\n",
      "             cosine_similarity      0 bytes  IncrementalSVD.#cosine_similarity\n",
      "          get_predicted_rating      0 bytes  IncrementalSVD.#get_predicted_rati…\n",
      "                 item_features      0 bytes  IncrementalSVD.#item_features\n",
      "                   item_search      0 bytes  IncrementalSVD.#item_search\n",
      "                         items      0 bytes  IncrementalSVD.#items\n",
      "    load_book_crossing_dataset      0 bytes  IncrementalSVD.#load_book_crossing…\n",
      "  load_large_movielens_dataset      0 bytes  IncrementalSVD.#load_large_moviele…\n",
      "  load_small_movielens_dataset      0 bytes  IncrementalSVD.#load_small_moviele…\n",
      "                          rmse      0 bytes  IncrementalSVD.#rmse\n",
      "                 similar_items      0 bytes  IncrementalSVD.#similar_items\n",
      "                 similar_users      0 bytes  IncrementalSVD.#similar_users\n",
      "                 split_ratings      0 bytes  IncrementalSVD.#split_ratings\n",
      "                         train      0 bytes  IncrementalSVD.#train\n",
      "               truncate_model!      0 bytes  IncrementalSVD.#truncate_model!\n",
      "                 user_features      0 bytes  IncrementalSVD.#user_features\n",
      "                  user_ratings      0 bytes  IncrementalSVD.#user_ratings\n",
      "                         users      0 bytes  IncrementalSVD.#users\n"
     ]
    }
   ],
   "source": [
    "whos(IncrementalSVD)"
   ]
  },
  {
   "cell_type": "code",
   "execution_count": 46,
   "metadata": {
    "collapsed": false,
    "nbpresent": {
     "id": "fe34b160-0094-4f16-be24-7dce3df0d876"
    }
   },
   "outputs": [
    {
     "name": "stdout",
     "output_type": "stream",
     "text": [
      "Reusing existing downloaded files...\n",
      "Loading ratings 100% Time: 0:00:03\n"
     ]
    }
   ],
   "source": [
    "rating_set = load_small_movielens_dataset();"
   ]
  },
  {
   "cell_type": "code",
   "execution_count": 47,
   "metadata": {
    "collapsed": false,
    "nbpresent": {
     "id": "0a04c7fc-c67f-4b4b-aa03-32900cb5651e"
    }
   },
   "outputs": [
    {
     "data": {
      "text/plain": [
       "4-element Array{Symbol,1}:\n",
       " :training_set \n",
       " :test_set     \n",
       " :user_to_index\n",
       " :item_to_index"
      ]
     },
     "execution_count": 47,
     "metadata": {},
     "output_type": "execute_result"
    }
   ],
   "source": [
    "fieldnames(rating_set)"
   ]
  },
  {
   "cell_type": "code",
   "execution_count": 48,
   "metadata": {
    "collapsed": false,
    "nbpresent": {
     "id": "c4456c31-299a-4f3a-9ad1-b9544ce009bd"
    }
   },
   "outputs": [
    {
     "data": {
      "text/plain": [
       "900188-element Array{IncrementalSVD.Rating,1}:\n",
       " IncrementalSVD.Rating(401,73,3.0)   \n",
       " IncrementalSVD.Rating(1589,616,3.0) \n",
       " IncrementalSVD.Rating(3209,1483,5.0)\n",
       " IncrementalSVD.Rating(1232,2236,4.0)\n",
       " IncrementalSVD.Rating(3377,1296,4.0)\n",
       " IncrementalSVD.Rating(5220,359,3.0) \n",
       " IncrementalSVD.Rating(1244,121,4.0) \n",
       " IncrementalSVD.Rating(525,1186,1.0) \n",
       " IncrementalSVD.Rating(5077,1574,3.0)\n",
       " IncrementalSVD.Rating(2164,1310,3.0)\n",
       " IncrementalSVD.Rating(1120,661,3.0) \n",
       " IncrementalSVD.Rating(3371,797,3.0) \n",
       " IncrementalSVD.Rating(2116,120,3.0) \n",
       " ⋮                                   \n",
       " IncrementalSVD.Rating(3963,135,5.0) \n",
       " IncrementalSVD.Rating(3457,238,2.0) \n",
       " IncrementalSVD.Rating(3189,318,4.0) \n",
       " IncrementalSVD.Rating(2438,526,5.0) \n",
       " IncrementalSVD.Rating(1609,791,3.0) \n",
       " IncrementalSVD.Rating(928,277,5.0)  \n",
       " IncrementalSVD.Rating(1326,129,5.0) \n",
       " IncrementalSVD.Rating(1947,950,5.0) \n",
       " IncrementalSVD.Rating(5801,1015,4.0)\n",
       " IncrementalSVD.Rating(5088,741,4.0) \n",
       " IncrementalSVD.Rating(660,809,4.0)  \n",
       " IncrementalSVD.Rating(3450,496,4.0) "
      ]
     },
     "execution_count": 48,
     "metadata": {},
     "output_type": "execute_result"
    }
   ],
   "source": [
    "# Format je (korisnik, film, ocjena)\n",
    "rating_set.training_set"
   ]
  },
  {
   "cell_type": "code",
   "execution_count": 49,
   "metadata": {
    "collapsed": false,
    "nbpresent": {
     "id": "2688fa04-c55c-4c1e-8313-8ce3886725c6"
    }
   },
   "outputs": [
    {
     "name": "stdout",
     "output_type": "stream",
     "text": [
      "                IncrementalSVD   6231 KB     Module\n",
      "                        Rating    136 bytes  DataType\n",
      "                     RatingSet    148 bytes  DataType\n",
      "                  RatingsModel    160 bytes  DataType\n",
      "             cosine_similarity      0 bytes  IncrementalSVD.#cosine_similarity\n",
      "          get_predicted_rating      0 bytes  IncrementalSVD.#get_predicted_rati…\n",
      "                 item_features      0 bytes  IncrementalSVD.#item_features\n",
      "                   item_search      0 bytes  IncrementalSVD.#item_search\n",
      "                         items      0 bytes  IncrementalSVD.#items\n",
      "    load_book_crossing_dataset      0 bytes  IncrementalSVD.#load_book_crossing…\n",
      "  load_large_movielens_dataset      0 bytes  IncrementalSVD.#load_large_moviele…\n",
      "  load_small_movielens_dataset      0 bytes  IncrementalSVD.#load_small_moviele…\n",
      "                          rmse      0 bytes  IncrementalSVD.#rmse\n",
      "                 similar_items      0 bytes  IncrementalSVD.#similar_items\n",
      "                 similar_users      0 bytes  IncrementalSVD.#similar_users\n",
      "                 split_ratings      0 bytes  IncrementalSVD.#split_ratings\n",
      "                         train      0 bytes  IncrementalSVD.#train\n",
      "               truncate_model!      0 bytes  IncrementalSVD.#truncate_model!\n",
      "                 user_features      0 bytes  IncrementalSVD.#user_features\n",
      "                  user_ratings      0 bytes  IncrementalSVD.#user_ratings\n",
      "                         users      0 bytes  IncrementalSVD.#users\n"
     ]
    }
   ],
   "source": [
    "whos(IncrementalSVD)"
   ]
  },
  {
   "cell_type": "code",
   "execution_count": 50,
   "metadata": {
    "collapsed": false,
    "nbpresent": {
     "id": "227f2334-6846-4dda-a3f7-a3672a820ea7"
    }
   },
   "outputs": [
    {
     "data": {
      "text/plain": [
       "100021-element Array{IncrementalSVD.Rating,1}:\n",
       " IncrementalSVD.Rating(2304,1110,4.0)\n",
       " IncrementalSVD.Rating(4508,1233,4.0)\n",
       " IncrementalSVD.Rating(2116,950,5.0) \n",
       " IncrementalSVD.Rating(1489,98,4.0)  \n",
       " IncrementalSVD.Rating(3769,530,5.0) \n",
       " IncrementalSVD.Rating(2807,125,3.0) \n",
       " IncrementalSVD.Rating(1617,19,4.0)  \n",
       " IncrementalSVD.Rating(3327,679,4.0) \n",
       " IncrementalSVD.Rating(4965,134,4.0) \n",
       " IncrementalSVD.Rating(5636,1584,4.0)\n",
       " IncrementalSVD.Rating(6036,1254,5.0)\n",
       " IncrementalSVD.Rating(5367,1263,4.0)\n",
       " IncrementalSVD.Rating(2740,147,4.0) \n",
       " ⋮                                   \n",
       " IncrementalSVD.Rating(4668,114,4.0) \n",
       " IncrementalSVD.Rating(1769,767,5.0) \n",
       " IncrementalSVD.Rating(2939,110,4.0) \n",
       " IncrementalSVD.Rating(4310,2785,4.0)\n",
       " IncrementalSVD.Rating(4585,756,5.0) \n",
       " IncrementalSVD.Rating(5971,309,3.0) \n",
       " IncrementalSVD.Rating(3471,796,3.0) \n",
       " IncrementalSVD.Rating(3422,568,2.0) \n",
       " IncrementalSVD.Rating(645,995,5.0)  \n",
       " IncrementalSVD.Rating(3206,316,5.0) \n",
       " IncrementalSVD.Rating(2685,1353,3.0)\n",
       " IncrementalSVD.Rating(4658,759,2.0) "
      ]
     },
     "execution_count": 50,
     "metadata": {},
     "output_type": "execute_result"
    }
   ],
   "source": [
    "rating_set.test_set"
   ]
  },
  {
   "cell_type": "code",
   "execution_count": 51,
   "metadata": {
    "collapsed": false,
    "nbpresent": {
     "id": "eda35ea4-4078-4458-b92d-6c616d4809bf"
    }
   },
   "outputs": [
    {
     "data": {
      "text/plain": [
       "Dict{AbstractString,Int32} with 6040 entries:\n",
       "  \"4304\" => 4304\n",
       "  \"3935\" => 3935\n",
       "  \"5422\" => 5422\n",
       "  \"5734\" => 5734\n",
       "  \"2243\" => 2243\n",
       "  \"1881\" => 1881\n",
       "  \"5425\" => 5425\n",
       "  \"4209\" => 4209\n",
       "  \"1907\" => 1907\n",
       "  \"2923\" => 2923\n",
       "  \"599\"  => 599\n",
       "  \"2491\" => 2491\n",
       "  \"5944\" => 5944\n",
       "  \"228\"  => 228\n",
       "  \"2590\" => 2590\n",
       "  \"3697\" => 3697\n",
       "  \"5031\" => 5031\n",
       "  \"2579\" => 2579\n",
       "  \"5551\" => 5551\n",
       "  \"1880\" => 1880\n",
       "  \"2562\" => 2562\n",
       "  \"3215\" => 3215\n",
       "  \"3991\" => 3991\n",
       "  \"4652\" => 4652\n",
       "  \"4088\" => 4088\n",
       "  ⋮      => ⋮"
      ]
     },
     "execution_count": 51,
     "metadata": {},
     "output_type": "execute_result"
    }
   ],
   "source": [
    "# Korisnici i njihove šifre\n",
    "rating_set.user_to_index"
   ]
  },
  {
   "cell_type": "code",
   "execution_count": 52,
   "metadata": {
    "collapsed": false,
    "nbpresent": {
     "id": "b617e472-3cbb-4dac-b889-0ede4baa5299"
    }
   },
   "outputs": [
    {
     "data": {
      "text/plain": [
       "Dict{AbstractString,Int32} with 3706 entries:\n",
       "  \"Fried Green Tomatoes (1991)\"                                       => 594\n",
       "  \"Milk Money (1994)\"                                                 => 1361\n",
       "  \"From Russia with Love (1963)\"                                      => 729\n",
       "  \"House II: The Second Story (1987)\"                                 => 1247\n",
       "  \"Held Up (2000)\"                                                    => 3549\n",
       "  \"Missing in Action 2: The Beginning (1985)\"                         => 2177\n",
       "  \"Murder, My Sweet (1944)\"                                           => 996\n",
       "  \"Hidden, The (1987)\"                                                => 981\n",
       "  \"Cable Guy, The (1996)\"                                             => 669\n",
       "  \"Big Kahuna, The (2000)\"                                            => 893\n",
       "  \"Addams Family Values (1993)\"                                       => 1857\n",
       "  \"Farinelli: il castrato (1994)\"                                     => 1945\n",
       "  \"Education of Little Tree, The (1997)\"                              => 2759\n",
       "  \"In God's Hands (1998)\"                                             => 2814\n",
       "  \"Last Man Standing (1996)\"                                          => 1840\n",
       "  \"Sixth Sense, The (1999)\"                                           => 39\n",
       "  \"Star Maps (1997)\"                                                  => 2670\n",
       "  \"Girl, Interrupted (1999)\"                                          => 32\n",
       "  \"Stand by Me (1986)\"                                                => 85\n",
       "  \"Rob Roy (1995)\"                                                    => 449\n",
       "  \"Caligula (1980)\"                                                   => 2532\n",
       "  \"Flirting With Disaster (1996)\"                                     => 1290\n",
       "  \"Hook (1991)\"                                                       => 657\n",
       "  \"Institute Benjamenta, or This Dream People Call Human Life (1995)\" => 3397\n",
       "  \"Way We Were, The (1973)\"                                           => 762\n",
       "  ⋮                                                                   => ⋮"
      ]
     },
     "execution_count": 52,
     "metadata": {},
     "output_type": "execute_result"
    }
   ],
   "source": [
    "# Filmovi i njihove šifre\n",
    "rating_set.item_to_index"
   ]
  },
  {
   "cell_type": "code",
   "execution_count": 53,
   "metadata": {
    "collapsed": false,
    "nbpresent": {
     "id": "2de54f0f-448a-431f-a6b4-fabdafe1c663"
    }
   },
   "outputs": [
    {
     "data": {
      "text/plain": [
       "Base.KeyIterator for a Dict{AbstractString,Int32} with 3706 entries. Keys:\n",
       "  \"Fried Green Tomatoes (1991)\"\n",
       "  \"Milk Money (1994)\"\n",
       "  \"From Russia with Love (1963)\"\n",
       "  \"House II: The Second Story (1987)\"\n",
       "  \"Held Up (2000)\"\n",
       "  \"Missing in Action 2: The Beginning (1985)\"\n",
       "  \"Murder, My Sweet (1944)\"\n",
       "  \"Hidden, The (1987)\"\n",
       "  \"Cable Guy, The (1996)\"\n",
       "  \"Big Kahuna, The (2000)\"\n",
       "  \"Addams Family Values (1993)\"\n",
       "  \"Farinelli: il castrato (1994)\"\n",
       "  \"Education of Little Tree, The (1997)\"\n",
       "  \"In God's Hands (1998)\"\n",
       "  \"Last Man Standing (1996)\"\n",
       "  \"Sixth Sense, The (1999)\"\n",
       "  \"Star Maps (1997)\"\n",
       "  \"Girl, Interrupted (1999)\"\n",
       "  \"Stand by Me (1986)\"\n",
       "  \"Rob Roy (1995)\"\n",
       "  \"Caligula (1980)\"\n",
       "  \"Flirting With Disaster (1996)\"\n",
       "  \"Hook (1991)\"\n",
       "  \"Institute Benjamenta, or This Dream People Call Human Life (1995)\"\n",
       "  ⋮"
      ]
     },
     "execution_count": 53,
     "metadata": {},
     "output_type": "execute_result"
    }
   ],
   "source": [
    "# Možemo posebno izvaditi naslove ...\n",
    "keys(rating_set.item_to_index)"
   ]
  },
  {
   "cell_type": "code",
   "execution_count": 54,
   "metadata": {
    "collapsed": false,
    "nbpresent": {
     "id": "78d27a10-f1f4-4d6e-9d23-e5e734f61466"
    }
   },
   "outputs": [
    {
     "data": {
      "text/plain": [
       "Base.ValueIterator for a Dict{AbstractString,Int32} with 3706 entries. Values:\n",
       "  594\n",
       "  1361\n",
       "  729\n",
       "  1247\n",
       "  3549\n",
       "  2177\n",
       "  996\n",
       "  981\n",
       "  669\n",
       "  893\n",
       "  1857\n",
       "  1945\n",
       "  2759\n",
       "  2814\n",
       "  1840\n",
       "  39\n",
       "  2670\n",
       "  32\n",
       "  85\n",
       "  449\n",
       "  2532\n",
       "  1290\n",
       "  657\n",
       "  3397\n",
       "  ⋮"
      ]
     },
     "execution_count": 54,
     "metadata": {},
     "output_type": "execute_result"
    }
   ],
   "source": [
    "# i šifre\n",
    "values(rating_set.item_to_index)"
   ]
  },
  {
   "cell_type": "code",
   "execution_count": 77,
   "metadata": {
    "collapsed": false,
    "nbpresent": {
     "id": "d4c4b874-0934-45e3-bd91-ccb28e97ef46"
    }
   },
   "outputs": [
    {
     "data": {
      "text/plain": [
       "97-element Array{Tuple{SubString{String},Float32},1}:\n",
       " (\"Twelve Monkeys (1995)\",5.0)                        \n",
       " (\"Babe (1995)\",5.0)                                  \n",
       " (\"One Flew Over the Cuckoo's Nest (1975)\",5.0)       \n",
       " (\"American Beauty (1999)\",5.0)                       \n",
       " (\"Time Bandits (1981)\",5.0)                          \n",
       " (\"Gattaca (1997)\",5.0)                               \n",
       " (\"Groundhog Day (1993)\",5.0)                         \n",
       " (\"Princess Bride, The (1987)\",5.0)                   \n",
       " (\"Rock, The (1996)\",5.0)                             \n",
       " (\"Defending Your Life (1991)\",5.0)                   \n",
       " (\"Brazil (1985)\",5.0)                                \n",
       " (\"Caddyshack (1980)\",5.0)                            \n",
       " (\"When Harry Met Sally... (1989)\",5.0)               \n",
       " ⋮                                                    \n",
       " (\"Back to the Future (1985)\",2.0)                    \n",
       " (\"Forrest Gump (1994)\",2.0)                          \n",
       " (\"Grease 2 (1982)\",1.0)                              \n",
       " (\"Blue Lagoon, The (1980)\",1.0)                      \n",
       " (\"Flashdance (1983)\",1.0)                            \n",
       " (\"Star Trek VI: The Undiscovered Country (1991)\",1.0)\n",
       " (\"Sphere (1998)\",1.0)                                \n",
       " (\"Sudden Death (1995)\",1.0)                          \n",
       " (\"Mission: Impossible (1996)\",1.0)                   \n",
       " (\"Jewel of the Nile, The (1985)\",1.0)                \n",
       " (\"Dirty Dancing (1987)\",1.0)                         \n",
       " (\"Blind Date (1987)\",1.0)                            "
      ]
     },
     "execution_count": 77,
     "metadata": {},
     "output_type": "execute_result"
    }
   ],
   "source": [
    "# Koje je filmove ocijenio korisnik \"3000\"\n",
    "user_ratings(rating_set, \"3000\")"
   ]
  },
  {
   "cell_type": "code",
   "execution_count": 56,
   "metadata": {
    "collapsed": false,
    "nbpresent": {
     "id": "4e2d4c8c-185b-4571-a201-83f917cb7bf1"
    }
   },
   "outputs": [
    {
     "name": "stdout",
     "output_type": "stream",
     "text": [
      "Sling Blade (1996)\n",
      "Blade (1998)\n",
      "Blade Runner (1982)\n",
      "Some Folks Call It a Sling Blade (1993)\n"
     ]
    },
    {
     "ename": "LoadError",
     "evalue": "LoadError: UnicodeError: invalid character index\nwhile loading In[56], in expression starting on line 2",
     "output_type": "error",
     "traceback": [
      "LoadError: UnicodeError: invalid character index\nwhile loading In[56], in expression starting on line 2",
      "",
      " in slow_utf8_next(::Array{UInt8,1}, ::UInt8, ::Int64) at ./strings/string.jl:67",
      " in next at ./strings/string.jl:92 [inlined]",
      " in next(::SubString{String}, ::Int64) at ./strings/types.jl:51",
      " in search(::SubString{String}, ::Char, ::Int64) at ./strings/search.jl:12",
      " in _searchindex(::SubString{String}, ::String, ::Int64) at ./strings/search.jl:31",
      " in contains(::SubString{String}, ::String) at ./strings/search.jl:310",
      " in macro expansion; at ./In[56]:3 [inlined]",
      " in anonymous at ./<missing>:?"
     ]
    }
   ],
   "source": [
    "# Nađimo točan naziv i šifru za \"Blade runner\"\n",
    "for k in keys(rating_set.item_to_index)\n",
    "    if contains(k,\"Blade\")\n",
    "        println(k)\n",
    "    end\n",
    "end"
   ]
  },
  {
   "cell_type": "code",
   "execution_count": 57,
   "metadata": {
    "collapsed": false,
    "nbpresent": {
     "id": "f9f29054-8d7f-4779-b29c-aa3834e2de8f"
    }
   },
   "outputs": [
    {
     "data": {
      "text/plain": [
       "744"
      ]
     },
     "execution_count": 57,
     "metadata": {},
     "output_type": "execute_result"
    }
   ],
   "source": [
    "get(rating_set.item_to_index,\"Blade Runner (1982)\",0)"
   ]
  },
  {
   "cell_type": "code",
   "execution_count": 71,
   "metadata": {
    "collapsed": false,
    "nbpresent": {
     "id": "1251af52-47ea-4d0f-a8e8-586a1f5517af"
    }
   },
   "outputs": [
    {
     "name": "stdout",
     "output_type": "stream",
     "text": [
      "(\"Blade Runner (1982)\",4.0f0)\n"
     ]
    }
   ],
   "source": [
    "# Da li je korisnik \"3000\" ocijenio \"Blade Runner\" ?\n",
    "for k in user_ratings(rating_set,\"3000\")\n",
    "    if contains(k[1],\"Blade\")\n",
    "        println(k)\n",
    "    end\n",
    "end"
   ]
  },
  {
   "cell_type": "code",
   "execution_count": 73,
   "metadata": {
    "collapsed": false,
    "nbpresent": {
     "id": "97a60042-8c73-46bf-9f9e-66281228aecc"
    }
   },
   "outputs": [],
   "source": [
    "# Da li je korisnik \"3000\" ocijenio \"Citizen Kane\" ?\n",
    "for k in user_ratings(rating_set,\"3000\")\n",
    "    if contains(k[1],\"Citizen\")\n",
    "        println(k)\n",
    "    end\n",
    "end"
   ]
  },
  {
   "cell_type": "code",
   "execution_count": 58,
   "metadata": {
    "collapsed": false,
    "nbpresent": {
     "id": "883cf538-0f01-4a0a-bd2f-dc14fed20fd0"
    }
   },
   "outputs": [
    {
     "name": "stdout",
     "output_type": "stream",
     "text": [
      "Computing truncated rank 25 SVD 100% Time: 0:02:19\n"
     ]
    }
   ],
   "source": [
    "# Ovo traje dvije minute\n",
    "model = train(rating_set, 25);"
   ]
  },
  {
   "cell_type": "code",
   "execution_count": 15,
   "metadata": {
    "collapsed": false,
    "nbpresent": {
     "id": "4ab42861-734c-409a-ab8e-0c065328987f"
    }
   },
   "outputs": [
    {
     "data": {
      "text/plain": [
       "5-element Array{Symbol,1}:\n",
       " :user_to_index\n",
       " :item_to_index\n",
       " :U            \n",
       " :S            \n",
       " :V            "
      ]
     },
     "execution_count": 15,
     "metadata": {},
     "output_type": "execute_result"
    }
   ],
   "source": [
    "fieldnames(model)"
   ]
  },
  {
   "cell_type": "code",
   "execution_count": 17,
   "metadata": {
    "collapsed": false,
    "nbpresent": {
     "id": "9175e158-5a25-4d87-8236-0659ef31f3fd"
    }
   },
   "outputs": [
    {
     "data": {
      "text/plain": [
       "6040×25 Array{Float32,2}:\n",
       " 0.0109397   0.0120882    0.0169468    …   0.0182744    0.0127905  \n",
       " 0.0139128   0.0105115    0.0109548        0.00726907   0.0115994  \n",
       " 0.0103488   0.00919027   0.0170757        0.00782491   0.0189602  \n",
       " 0.00643328  0.00658507   0.0150251        0.00898337   0.0145874  \n",
       " 0.0135069   0.0159129    0.00188229      -0.0017402    0.0134213  \n",
       " 0.0108626   0.0169864    0.014689     …   0.0109867    0.01205    \n",
       " 0.00905656  0.00757497   0.0188016        0.00902981   0.0157905  \n",
       " 0.015726    0.0147907    0.010143         0.0130196    0.00672511 \n",
       " 0.0136295   0.0087258    0.0111347        0.0135053    0.00672864 \n",
       " 0.0189491   0.0126614   -0.00966637       0.0124152   -2.84942f-5 \n",
       " 0.0131507   0.0106846    0.00996407   …   0.00812149   0.00857651 \n",
       " 0.00579884  0.00825437   0.0137625        0.0119663    0.0201331  \n",
       " 0.0125511   0.00975366   0.013059         0.00873861   0.0125369  \n",
       " ⋮                                     ⋱                           \n",
       " 0.00629751  0.0126694    0.0137001        0.0198917    0.0177359  \n",
       " 0.0145062   0.0126065    0.0159006        0.0156888   -0.000446682\n",
       " 0.00858759  0.0105092    0.0165817    …   0.0123966    0.0164013  \n",
       " 0.0145017   0.0132349    0.0128897        0.0144461    0.0106364  \n",
       " 0.0103162   0.0102078    0.0181477        0.0135987    0.0128912  \n",
       " 0.00553558  0.0106878    0.0126612        0.00902354   0.0219793  \n",
       " 0.0137388   0.00792234   0.00435402      -0.0222317    0.0161154  \n",
       " 0.0167184   0.0153306   -0.0229419    …  -0.0189088    0.013271   \n",
       " 0.0152222   0.0100765   -0.000712767      0.00562328   0.0201438  \n",
       " 0.0049445   0.0085592    0.0117           0.0107289    0.0217852  \n",
       " 0.01441     0.016945     0.00865385       0.00810234   0.00426862 \n",
       " 0.015922    0.016641    -0.0103153       -0.00441228   0.0151626  "
      ]
     },
     "execution_count": 17,
     "metadata": {},
     "output_type": "execute_result"
    }
   ],
   "source": [
    "model.U"
   ]
  },
  {
   "cell_type": "code",
   "execution_count": 19,
   "metadata": {
    "collapsed": false,
    "nbpresent": {
     "id": "5f5fef72-581c-4f0a-bdec-2aba63597e82"
    }
   },
   "outputs": [
    {
     "data": {
      "text/plain": [
       "25-element Array{Float32,1}:\n",
       " 8193.03  \n",
       " 2141.83  \n",
       "  822.532 \n",
       " 1152.78  \n",
       "  857.213 \n",
       " 1207.82  \n",
       "  635.458 \n",
       "  386.565 \n",
       "  356.42  \n",
       "  257.805 \n",
       "  253.264 \n",
       "  335.431 \n",
       "  294.861 \n",
       "  220.93  \n",
       "  255.133 \n",
       "  290.461 \n",
       "  305.247 \n",
       "  212.039 \n",
       "  206.682 \n",
       "  183.221 \n",
       "  185.071 \n",
       "  165.08  \n",
       "  137.357 \n",
       "  117.028 \n",
       "   98.6447"
      ]
     },
     "execution_count": 19,
     "metadata": {},
     "output_type": "execute_result"
    }
   ],
   "source": [
    "model.S"
   ]
  },
  {
   "cell_type": "code",
   "execution_count": 20,
   "metadata": {
    "collapsed": false,
    "nbpresent": {
     "id": "57d586fa-798e-44cb-9e81-f87754188ea8"
    }
   },
   "outputs": [
    {
     "data": {
      "text/plain": [
       "3706×25 Array{Float32,2}:\n",
       " 0.0358245   0.00782668  0.0675527   …  -0.0100661    0.0137027 \n",
       " 0.0247092   0.0150956   0.0188127      -0.00511937   0.00914619\n",
       " 0.0303699   0.0131325   0.0314674      -0.00250202   0.00869294\n",
       " 0.0317046   0.0121117   0.0539777       0.00839023  -0.00308282\n",
       " 0.031558    0.00782683  0.0546983       0.00663257  -0.00126217\n",
       " 0.0343401   0.00475581  0.0693303   …  -0.0231122    0.00700887\n",
       " 0.0303488   0.00794795  0.0289065       0.00364954   0.00895373\n",
       " 0.033034    0.00395536  0.052396        0.0155467    0.00311064\n",
       " 0.0287153   0.00829325  0.0232587       0.0023214    0.0277448 \n",
       " 0.0333828   0.00531967  0.0538163      -0.0148109    0.0360311 \n",
       " 0.0301238   0.00558839  0.0378453   …   0.0106465   -0.014266  \n",
       " 0.0170121   0.027131    0.0101034       0.0135378    0.00748064\n",
       " 0.0257305   0.018903    0.0120745       0.00819141   0.00644709\n",
       " ⋮                                   ⋱                          \n",
       " 0.00118642  0.00260609  0.00407268      0.014045     0.0141222 \n",
       " 0.00114163  0.00243     0.00389099  …   0.0120078    0.0129605 \n",
       " 0.00112244  0.00225014  0.00369974      0.0101406    0.0109187 \n",
       " 0.00115295  0.00259132  0.00406568      0.0139224    0.0150254 \n",
       " 0.00119202  0.002612    0.00388533      0.0103724    0.0120417 \n",
       " 0.00126535  0.00245293  0.00347284      0.0128395    0.0100127 \n",
       " 0.00121962  0.00265996  0.00407872  …   0.0131932    0.0135913 \n",
       " 0.00140358  0.00293771  0.00403397      0.0159761    0.0167492 \n",
       " 0.00127911  0.00249096  0.00348962      0.009968     0.0125169 \n",
       " 0.0011558   0.0022869   0.00366932      0.00994354   0.0108854 \n",
       " 0.00131986  0.00280722  0.00406294      0.0117043    0.0133613 \n",
       " 0.00123073  0.00261804  0.00390465  …   0.0120777    0.0134995 "
      ]
     },
     "execution_count": 20,
     "metadata": {},
     "output_type": "execute_result"
    }
   ],
   "source": [
    "model.V"
   ]
  },
  {
   "cell_type": "code",
   "execution_count": 78,
   "metadata": {
    "collapsed": false,
    "nbpresent": {
     "id": "22056d79-9af6-4ec3-8a7a-32344c7982ef"
    }
   },
   "outputs": [
    {
     "data": {
      "text/plain": [
       "10-element Array{SubString{String},1}:\n",
       " \"Friday the 13th (1980)\"       \n",
       " \"Amityville Horror, The (1979)\"\n",
       " \"Omen, The (1976)\"             \n",
       " \"Hellraiser (1987)\"            \n",
       " \"Halloween II (1981)\"          \n",
       " \"Pet Sematary (1989)\"          \n",
       " \"Cujo (1983)\"                  \n",
       " \"Jaws 2 (1978)\"                \n",
       " \"Friday the 13th Part 2 (1981)\"\n",
       " \"Creepshow (1982)\"             "
      ]
     },
     "execution_count": 78,
     "metadata": {},
     "output_type": "execute_result"
    }
   ],
   "source": [
    "similar_items(model, \"Friday the 13th (1980)\")"
   ]
  },
  {
   "cell_type": "code",
   "execution_count": 79,
   "metadata": {
    "collapsed": false,
    "nbpresent": {
     "id": "f5b090ca-1b56-49a2-b3e1-f46e01e28f77"
    }
   },
   "outputs": [
    {
     "data": {
      "text/html": [
       "similar_items(model::<b>IncrementalSVD.RatingsModel</b>, item) at <a href=\"https://github.com/aaw/IncrementalSVD.jl/tree/bfb18ddf8aa238e3e48f0eea7a014fda502c40c6/src/util.jl#L113\" target=\"_blank\">/home/slap/.julia/v0.5/IncrementalSVD/src/util.jl:113</a>"
      ],
      "text/plain": [
       "similar_items(model::IncrementalSVD.RatingsModel, item) at /home/slap/.julia/v0.5/IncrementalSVD/src/util.jl:113"
      ]
     },
     "execution_count": 79,
     "metadata": {},
     "output_type": "execute_result"
    }
   ],
   "source": [
    "@which similar_items(model, \"Friday the 13th (1980)\")"
   ]
  },
  {
   "cell_type": "code",
   "execution_count": 80,
   "metadata": {
    "collapsed": false,
    "nbpresent": {
     "id": "84987c4b-dae3-44b0-a710-91e435d5b13b"
    }
   },
   "outputs": [
    {
     "data": {
      "text/plain": [
       "10-element Array{SubString{String},1}:\n",
       " \"Citizen Kane (1941)\"                                                        \n",
       " \"Chinatown (1974)\"                                                           \n",
       " \"Dr. Strangelove or: How I Learned to Stop Worrying and Love the Bomb (1963)\"\n",
       " \"M*A*S*H (1970)\"                                                             \n",
       " \"Rear Window (1954)\"                                                         \n",
       " \"Lawrence of Arabia (1962)\"                                                  \n",
       " \"African Queen, The (1951)\"                                                  \n",
       " \"Casablanca (1942)\"                                                          \n",
       " \"Maltese Falcon, The (1941)\"                                                 \n",
       " \"Vertigo (1958)\"                                                             "
      ]
     },
     "execution_count": 80,
     "metadata": {},
     "output_type": "execute_result"
    }
   ],
   "source": [
    "similar_items(model, \"Citizen Kane (1941)\")"
   ]
  },
  {
   "cell_type": "code",
   "execution_count": 81,
   "metadata": {
    "collapsed": false,
    "nbpresent": {
     "id": "b6f3dae2-a575-42ac-9b64-2ebe7207749d"
    }
   },
   "outputs": [
    {
     "data": {
      "text/plain": [
       "10-element Array{SubString{String},1}:\n",
       " \"3000\"\n",
       " \"2202\"\n",
       " \"3479\"\n",
       " \"260\" \n",
       " \"6030\"\n",
       " \"4323\"\n",
       " \"2919\"\n",
       " \"5457\"\n",
       " \"3052\"\n",
       " \"5619\""
      ]
     },
     "execution_count": 81,
     "metadata": {},
     "output_type": "execute_result"
    }
   ],
   "source": [
    "similar_users(model,\"3000\")"
   ]
  },
  {
   "cell_type": "code",
   "execution_count": 84,
   "metadata": {
    "collapsed": false,
    "nbpresent": {
     "id": "480f4b30-a821-4873-9007-ba1533569c23"
    }
   },
   "outputs": [
    {
     "data": {
      "text/plain": [
       "4.195779f0"
      ]
     },
     "execution_count": 84,
     "metadata": {},
     "output_type": "execute_result"
    }
   ],
   "source": [
    "# Stvarna ocjena je bila 4.0\n",
    "get_predicted_rating(model, \"3000\", \"Blade Runner (1982)\")"
   ]
  },
  {
   "cell_type": "code",
   "execution_count": 85,
   "metadata": {
    "collapsed": false,
    "nbpresent": {
     "id": "f4108b64-09bd-45bc-8528-f1ee6f1e03f8"
    }
   },
   "outputs": [
    {
     "data": {
      "text/plain": [
       "4.1705f0"
      ]
     },
     "execution_count": 85,
     "metadata": {},
     "output_type": "execute_result"
    }
   ],
   "source": [
    "IncrementalSVD.get_predicted_rating(model, \"3000\", \"Citizen Kane (1941)\")"
   ]
  },
  {
   "cell_type": "markdown",
   "metadata": {
    "nbpresent": {
     "id": "be0dcc40-6967-43f1-b183-1a84d1231b7c"
    }
   },
   "source": [
    "## Tehnologija - github\n",
    "\n",
    "Open Source!\n",
    "\n",
    "[github]() je sustav za kolaborativan razvoj softvera - izlog!\n"
   ]
  },
  {
   "cell_type": "markdown",
   "metadata": {
    "collapsed": true,
    "nbpresent": {
     "id": "34a48ae6-b0f5-4d22-996f-f73960b088e1"
    }
   },
   "source": [
    "## Julia i Jupyter\n",
    "\n",
    "[Julia](http://julialang.org/) je novi programski jezik (evolucija) za BigData\n",
    "\n",
    "* [JuliaBox](https://juliabox.com/)\n",
    "\n",
    "[Jupyter](http://jupyter.org/) bilježnice:\n",
    " \n",
    " * pisanje teksta i izvođenje programa na 40 jezika (Julia, Python, R, ...)\n",
    " * pretvaranje u HTML i knjigu (LaTeX, PDF)\n",
    " * prezentacija, sastavljanje domaćih radova"
   ]
  },
  {
   "cell_type": "markdown",
   "metadata": {
    "nbpresent": {
     "id": "22a2e6a0-950b-436e-ba76-43bdd7f4e917"
    }
   },
   "source": [
    "## Hvala na pažnji\n",
    "\n",
    "Pitanja?"
   ]
  },
  {
   "cell_type": "code",
   "execution_count": null,
   "metadata": {
    "collapsed": true,
    "nbpresent": {
     "id": "5a1c181f-cbc4-4c2a-b0a2-ef794b15a4e9"
    }
   },
   "outputs": [],
   "source": []
  }
 ],
 "metadata": {
  "anaconda-cloud": {},
  "kernelspec": {
   "display_name": "Julia 0.5.0",
   "language": "julia",
   "name": "julia-0.5"
  },
  "language_info": {
   "file_extension": ".jl",
   "mimetype": "application/julia",
   "name": "julia",
   "version": "0.5.0"
  },
  "nbpresent": {
   "slides": {
    "19414927-36e5-4276-984d-cc0dc8de9bcd": {
     "id": "19414927-36e5-4276-984d-cc0dc8de9bcd",
     "prev": null,
     "regions": {
      "add6c146-5799-429d-8d20-7b461f727018": {
       "attrs": {
        "height": 0.8,
        "width": 0.8,
        "x": 0.1,
        "y": 0.1
       },
       "content": {
        "cell": "c8a714c5-14b1-4002-862d-8f81edb5674c",
        "part": "source"
       },
       "id": "add6c146-5799-429d-8d20-7b461f727018"
      }
     }
    },
    "1e1b6c96-3376-4da6-a956-b74ef5ffa7a9": {
     "id": "1e1b6c96-3376-4da6-a956-b74ef5ffa7a9",
     "prev": "e8c16816-d8fc-4579-9dd2-79589e549bca",
     "regions": {
      "f349c6a0-ea15-4758-99b2-266d2680ba19": {
       "attrs": {
        "height": 0.8,
        "width": 0.8,
        "x": 0.1,
        "y": 0.1
       },
       "content": {
        "cell": "ec4afe08-74b2-4219-b379-b3a4cfb185c9",
        "part": "source"
       },
       "id": "f349c6a0-ea15-4758-99b2-266d2680ba19"
      }
     }
    },
    "21fbd69e-5338-4c86-8cee-5482e7e07819": {
     "id": "21fbd69e-5338-4c86-8cee-5482e7e07819",
     "prev": "2875e6b7-714b-49c4-90d7-4cdb91e025da",
     "regions": {
      "f371cb4c-8558-4eed-b9a2-9f73aa6b524a": {
       "attrs": {
        "height": 0.8,
        "width": 0.8,
        "x": 0.1,
        "y": 0.1
       },
       "content": {
        "cell": "4c3647c8-bf68-4fc7-9494-d11fdb86327f",
        "part": "source"
       },
       "id": "f371cb4c-8558-4eed-b9a2-9f73aa6b524a"
      }
     }
    },
    "2875e6b7-714b-49c4-90d7-4cdb91e025da": {
     "id": "2875e6b7-714b-49c4-90d7-4cdb91e025da",
     "prev": "19414927-36e5-4276-984d-cc0dc8de9bcd",
     "regions": {
      "43c2b517-d96c-409a-95e7-e2efccedbcb8": {
       "attrs": {
        "height": 0.8,
        "width": 0.8,
        "x": 0.1,
        "y": 0.1
       },
       "content": {
        "cell": "fc9bb354-30c5-40b2-b569-1a31452ff488",
        "part": "source"
       },
       "id": "43c2b517-d96c-409a-95e7-e2efccedbcb8"
      }
     }
    },
    "3199b18f-0a47-412d-835d-02241c8b4043": {
     "id": "3199b18f-0a47-412d-835d-02241c8b4043",
     "prev": "c7a1a0c2-03e7-44ed-b7ae-45b680feda71",
     "regions": {
      "940e109d-e7e7-4eb1-bbe1-2f79638d4ec5": {
       "attrs": {
        "height": 0.8539083557951482,
        "width": 0.8230458221024259,
        "x": 0.09393530997304585,
        "y": 0.05902964959568733
       },
       "content": {
        "cell": "95e8dd12-5e61-4c6e-903e-21d9933c61d6",
        "part": "whole"
       },
       "id": "940e109d-e7e7-4eb1-bbe1-2f79638d4ec5"
      }
     }
    },
    "84f95bbe-d7a6-4920-a0e8-1e2fa0ee2241": {
     "id": "84f95bbe-d7a6-4920-a0e8-1e2fa0ee2241",
     "prev": "3199b18f-0a47-412d-835d-02241c8b4043",
     "regions": {
      "26d3e3b7-55a2-4c2b-9ab3-fe915e6ce5d0": {
       "attrs": {
        "height": 0.825876010781671,
        "width": 0.8788409703504045,
        "x": 0.05754716981132078,
        "y": 0.0913746630727764
       },
       "content": {
        "cell": "310609df-23c9-43d4-be57-c9e837921be5",
        "part": "whole"
       },
       "id": "26d3e3b7-55a2-4c2b-9ab3-fe915e6ce5d0"
      }
     }
    },
    "86c527af-ce33-499a-9b30-9053be3ee13a": {
     "id": "86c527af-ce33-499a-9b30-9053be3ee13a",
     "prev": "e2e538ba-deb9-4cc9-95b6-abc34e08ba18",
     "regions": {
      "15dd0969-46b5-473a-a020-a54bebca2278": {
       "attrs": {
        "height": 0.8,
        "width": 0.8,
        "x": 0.1,
        "y": 0.1
       },
       "content": {
        "cell": "be0dcc40-6967-43f1-b183-1a84d1231b7c",
        "part": "source"
       },
       "id": "15dd0969-46b5-473a-a020-a54bebca2278"
      }
     }
    },
    "c7a1a0c2-03e7-44ed-b7ae-45b680feda71": {
     "id": "c7a1a0c2-03e7-44ed-b7ae-45b680feda71",
     "prev": "1e1b6c96-3376-4da6-a956-b74ef5ffa7a9",
     "regions": {
      "3152c062-bad8-4806-8ac6-427a3619f1a7": {
       "attrs": {
        "height": 0.8,
        "width": 0.8,
        "x": 0.1,
        "y": 0.1
       },
       "content": {
        "cell": "8e161bdf-c2f4-457b-aa37-87cb7b94a62a",
        "part": "source"
       },
       "id": "3152c062-bad8-4806-8ac6-427a3619f1a7"
      }
     }
    },
    "d236602a-e23f-45b0-93a7-21f98b63adcf": {
     "id": "d236602a-e23f-45b0-93a7-21f98b63adcf",
     "prev": "da366023-b13a-4aac-b45f-657ffa0fd6bd",
     "regions": {
      "056795ce-0309-4ee9-94ef-4f5ce1daa271": {
       "attrs": {
        "height": 0.8,
        "width": 0.8,
        "x": 0.1,
        "y": 0.1
       },
       "content": {
        "cell": "22a2e6a0-950b-436e-ba76-43bdd7f4e917",
        "part": "source"
       },
       "id": "056795ce-0309-4ee9-94ef-4f5ce1daa271"
      }
     }
    },
    "da366023-b13a-4aac-b45f-657ffa0fd6bd": {
     "id": "da366023-b13a-4aac-b45f-657ffa0fd6bd",
     "prev": "86c527af-ce33-499a-9b30-9053be3ee13a",
     "regions": {
      "11dd23a2-6a68-4c16-afa8-6805183eb572": {
       "attrs": {
        "height": 0.8,
        "width": 0.8,
        "x": 0.1,
        "y": 0.1
       },
       "content": {
        "cell": "34a48ae6-b0f5-4d22-996f-f73960b088e1",
        "part": "source"
       },
       "id": "11dd23a2-6a68-4c16-afa8-6805183eb572"
      }
     }
    },
    "e2e538ba-deb9-4cc9-95b6-abc34e08ba18": {
     "id": "e2e538ba-deb9-4cc9-95b6-abc34e08ba18",
     "prev": "84f95bbe-d7a6-4920-a0e8-1e2fa0ee2241",
     "regions": {
      "544cb662-8f3f-42c8-90e1-f02cde800315": {
       "attrs": {
        "height": 0.8668463611859838,
        "width": 0.8861185983827494,
        "x": 0.06603773584905662,
        "y": 0.06981132075471698
       },
       "content": {
        "cell": "4944f869-4080-4947-a6ad-a08c3f2dc6b8",
        "part": "whole"
       },
       "id": "544cb662-8f3f-42c8-90e1-f02cde800315"
      }
     }
    },
    "e8c16816-d8fc-4579-9dd2-79589e549bca": {
     "id": "e8c16816-d8fc-4579-9dd2-79589e549bca",
     "prev": "21fbd69e-5338-4c86-8cee-5482e7e07819",
     "regions": {
      "5cf3b324-8d24-4eca-b345-a84d81f6ad5a": {
       "attrs": {
        "height": 0.8,
        "width": 0.8,
        "x": 0.1,
        "y": 0.1
       },
       "content": {
        "cell": "d194cf53-622d-4d19-a5ea-7bfb4e7cedf1",
        "part": "source"
       },
       "id": "5cf3b324-8d24-4eca-b345-a84d81f6ad5a"
      }
     }
    }
   },
   "themes": {
    "default": "12eec1f4-2448-4fdf-9ec4-8075829abdca",
    "theme": {
     "12eec1f4-2448-4fdf-9ec4-8075829abdca": {
      "id": "12eec1f4-2448-4fdf-9ec4-8075829abdca",
      "palette": {
       "19cc588f-0593-49c9-9f4b-e4d7cc113b1c": {
        "id": "19cc588f-0593-49c9-9f4b-e4d7cc113b1c",
        "rgb": [
         252,
         252,
         252
        ]
       },
       "31af15d2-7e15-44c5-ab5e-e04b16a89eff": {
        "id": "31af15d2-7e15-44c5-ab5e-e04b16a89eff",
        "rgb": [
         68,
         68,
         68
        ]
       },
       "50f92c45-a630-455b-aec3-788680ec7410": {
        "id": "50f92c45-a630-455b-aec3-788680ec7410",
        "rgb": [
         155,
         177,
         192
        ]
       },
       "c5cc3653-2ee1-402a-aba2-7caae1da4f6c": {
        "id": "c5cc3653-2ee1-402a-aba2-7caae1da4f6c",
        "rgb": [
         43,
         126,
         184
        ]
       },
       "efa7f048-9acb-414c-8b04-a26811511a21": {
        "id": "efa7f048-9acb-414c-8b04-a26811511a21",
        "rgb": [
         25.118061674008803,
         73.60176211453744,
         107.4819383259912
        ]
       }
      },
      "rules": {
       "blockquote": {
        "color": "50f92c45-a630-455b-aec3-788680ec7410"
       },
       "code": {
        "font-family": "Anonymous Pro"
       },
       "h1": {
        "color": "c5cc3653-2ee1-402a-aba2-7caae1da4f6c",
        "font-family": "Lato",
        "font-size": 8
       },
       "h2": {
        "color": "c5cc3653-2ee1-402a-aba2-7caae1da4f6c",
        "font-family": "Lato",
        "font-size": 6
       },
       "h3": {
        "color": "50f92c45-a630-455b-aec3-788680ec7410",
        "font-family": "Lato",
        "font-size": 5.5
       },
       "h4": {
        "color": "c5cc3653-2ee1-402a-aba2-7caae1da4f6c",
        "font-family": "Lato",
        "font-size": 5
       },
       "h5": {
        "font-family": "Lato"
       },
       "h6": {
        "font-family": "Lato"
       },
       "h7": {
        "font-family": "Lato"
       },
       "pre": {
        "font-family": "Anonymous Pro",
        "font-size": 4
       }
      },
      "text-base": {
       "font-family": "Merriweather",
       "font-size": 4
      }
     },
     "513c8753-d394-4ff4-95ce-f452e39334f5": {
      "backgrounds": {
       "backgroundColor": {
        "background-color": "backgroundColor",
        "id": "backgroundColor"
       }
      },
      "id": "513c8753-d394-4ff4-95ce-f452e39334f5",
      "palette": {
       "backgroundColor": {
        "id": "backgroundColor",
        "rgb": [
         17,
         17,
         17
        ]
       },
       "headingColor": {
        "id": "headingColor",
        "rgb": [
         238,
         238,
         238
        ]
       },
       "linkColor": {
        "id": "linkColor",
        "rgb": [
         231,
         173,
         82
        ]
       },
       "mainColor": {
        "id": "mainColor",
        "rgb": [
         238,
         238,
         238
        ]
       }
      },
      "rules": {
       "a": {
        "color": "linkColor"
       },
       "h1": {
        "color": "headingColor",
        "font-family": "Montserrat",
        "font-size": 7
       },
       "h2": {
        "color": "headingColor",
        "font-family": "Montserrat",
        "font-size": 5
       },
       "h3": {
        "color": "headingColor",
        "font-family": "Montserrat",
        "font-size": 3.75
       },
       "h4": {
        "color": "headingColor",
        "font-family": "Montserrat",
        "font-size": 3
       },
       "h5": {
        "color": "headingColor",
        "font-family": "Montserrat"
       },
       "h6": {
        "color": "headingColor",
        "font-family": "Montserrat"
       },
       "h7": {
        "color": "headingColor",
        "font-family": "Montserrat"
       },
       "li": {
        "color": "mainColor",
        "font-family": "Open Sans",
        "font-size": 4
       },
       "p": {
        "color": "mainColor",
        "font-family": "Open Sans",
        "font-size": 4
       }
      },
      "text-base": {
       "color": "mainColor",
       "font-family": "Open Sans",
       "font-size": 4
      }
     },
     "82f1c284-7368-467d-81a6-51fa90d6c991": {
      "backgrounds": {
       "backgroundColor": {
        "background-color": "backgroundColor",
        "id": "backgroundColor"
       }
      },
      "id": "82f1c284-7368-467d-81a6-51fa90d6c991",
      "palette": {
       "backgroundColor": {
        "id": "backgroundColor",
        "rgb": [
         17,
         17,
         17
        ]
       },
       "headingColor": {
        "id": "headingColor",
        "rgb": [
         238,
         238,
         238
        ]
       },
       "linkColor": {
        "id": "linkColor",
        "rgb": [
         231,
         173,
         82
        ]
       },
       "mainColor": {
        "id": "mainColor",
        "rgb": [
         238,
         238,
         238
        ]
       }
      },
      "rules": {
       "a": {
        "color": "linkColor"
       },
       "h1": {
        "color": "headingColor",
        "font-family": "Montserrat",
        "font-size": 7
       },
       "h2": {
        "color": "headingColor",
        "font-family": "Montserrat",
        "font-size": 5
       },
       "h3": {
        "color": "headingColor",
        "font-family": "Montserrat",
        "font-size": 3.75
       },
       "h4": {
        "color": "headingColor",
        "font-family": "Montserrat",
        "font-size": 3
       },
       "h5": {
        "color": "headingColor",
        "font-family": "Montserrat"
       },
       "h6": {
        "color": "headingColor",
        "font-family": "Montserrat"
       },
       "h7": {
        "color": "headingColor",
        "font-family": "Montserrat"
       },
       "li": {
        "color": "mainColor",
        "font-family": "Open Sans",
        "font-size": 4
       },
       "p": {
        "color": "mainColor",
        "font-family": "Open Sans",
        "font-size": 4
       }
      },
      "text-base": {
       "color": "mainColor",
       "font-family": "Open Sans",
       "font-size": 4
      }
     }
    }
   }
  }
 },
 "nbformat": 4,
 "nbformat_minor": 1
}
