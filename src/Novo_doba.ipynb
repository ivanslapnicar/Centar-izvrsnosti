{
 "cells": [
  {
   "cell_type": "markdown",
   "metadata": {
    "nbpresent": {
     "id": "c8a714c5-14b1-4002-862d-8f81edb5674c"
    },
    "slideshow": {
     "slide_type": "slide"
    }
   },
   "source": [
    "# Novo doba\n",
    "\n",
    "_Predavanje na otvorenju Centra izvrsnosti iz matematike Splitsko-dalmatinske županije_\n",
    "\n",
    "\n",
    "Ivan Slapničar, Sveučilište u Splitu, FESB\n",
    "\n"
   ]
  },
  {
   "cell_type": "markdown",
   "metadata": {
    "nbpresent": {
     "id": "fc9bb354-30c5-40b2-b569-1a31452ff488"
    },
    "slideshow": {
     "slide_type": "slide"
    }
   },
   "source": [
    "## Poruke\n",
    "\n",
    "Lako - Teško (u svemu!)\n",
    "\n",
    "Sada - doba __pretraživanja__ -> _matematika_\n",
    "\n",
    "Dolazi - doba __preporuka__  -> _matematika_\n",
    "\n",
    "(BigData, nova tehnologija)\n"
   ]
  },
  {
   "cell_type": "markdown",
   "metadata": {
    "collapsed": true,
    "nbpresent": {
     "id": "4c3647c8-bf68-4fc7-9494-d11fdb86327f"
    }
   },
   "source": [
    "## Lako - teško\n",
    "\n",
    "vaganje:  1 _kg_  -> 1 _kg_ $\\pm$ 0.000000001 _kg_\n",
    "\n",
    "trčanje: 100 _m_ -> 42,195 _m_ ili 100 _m_ < 10 _sek_\n",
    "\n",
    "zadaci iz matematike: test za CI -> državno natjecanje ([2016](http://natjecanja.math.hr/drzavno-natjecanje/drzavno-2016/) ili [sve](http://www.antonija-horvatek.from.hr/natjecanja-iz-matematike/zadaci-SS.htm)), ili [matematička olimpijada](http://www.imo-official.org/)"
   ]
  },
  {
   "cell_type": "markdown",
   "metadata": {
    "nbpresent": {
     "id": "d194cf53-622d-4d19-a5ea-7bfb4e7cedf1"
    }
   },
   "source": [
    "## Doba pretraživanja\n",
    "\n",
    "google (i ostali)\n",
    "\n",
    "\n",
    "* [50 milijardi stranica](http://www.worldwidewebsize.com/), [3.5 milijarde pretraživanja dnevno](http://www.internetlivestats.com/google-search-statistics/)\n",
    "* __PageRank__\n",
    "* povijest, kontekst - cookies, spremanje podataka (o vama), [200+ parametara](http://backlinko.com/google-ranking-factors)"
   ]
  },
  {
   "cell_type": "markdown",
   "metadata": {
    "nbpresent": {
     "id": "ec4afe08-74b2-4219-b379-b3a4cfb185c9"
    }
   },
   "source": [
    "## PageRank\n",
    "\n",
    "* Teorija grafova i linearna algebra\n",
    "* [C, Moler, Google PageRank][Mol11]\n",
    "\n",
    "\n",
    "[Mol11]: https://www.mathworks.com/moler/exm/chapters/pagerank.pdf \"C, Moler, 'Google PageRank', mathWorks, 2011.\"\n"
   ]
  },
  {
   "cell_type": "code",
   "execution_count": 1,
   "metadata": {
    "collapsed": false,
    "nbpresent": {
     "id": "339964f2-eba2-40c6-bc72-08687a1d486e"
    }
   },
   "outputs": [
    {
     "data": {
      "text/plain": [
       "6×6 sparse matrix with 9 Float64 nonzero entries:\n",
       "\t[2, 1]  =  1.0\n",
       "\t[6, 1]  =  1.0\n",
       "\t[3, 2]  =  1.0\n",
       "\t[4, 2]  =  1.0\n",
       "\t[4, 3]  =  1.0\n",
       "\t[5, 3]  =  1.0\n",
       "\t[6, 3]  =  1.0\n",
       "\t[1, 4]  =  1.0\n",
       "\t[1, 6]  =  1.0"
      ]
     },
     "execution_count": 1,
     "metadata": {},
     "output_type": "execute_result"
    }
   ],
   "source": [
    "i = vec([ 2 6 3 4 4 5 6 1 1])\n",
    "j = vec([ 1 1 2 2 3 3 3 4 6])\n",
    "G=sparse(i,j,1.0)"
   ]
  },
  {
   "cell_type": "code",
   "execution_count": 2,
   "metadata": {
    "collapsed": false,
    "nbpresent": {
     "id": "a61a812c-8380-4789-9685-819fdb925442"
    }
   },
   "outputs": [
    {
     "data": {
      "text/plain": [
       "6×6 Array{Float64,2}:\n",
       " 0.0  0.0  0.0  1.0  0.0  1.0\n",
       " 1.0  0.0  0.0  0.0  0.0  0.0\n",
       " 0.0  1.0  0.0  0.0  0.0  0.0\n",
       " 0.0  1.0  1.0  0.0  0.0  0.0\n",
       " 0.0  0.0  1.0  0.0  0.0  0.0\n",
       " 1.0  0.0  1.0  0.0  0.0  0.0"
      ]
     },
     "execution_count": 2,
     "metadata": {},
     "output_type": "execute_result"
    }
   ],
   "source": [
    "full(G)"
   ]
  },
  {
   "cell_type": "markdown",
   "metadata": {
    "nbpresent": {
     "id": "303bcbc1-fb7d-41a5-9d65-e599645bcca6"
    }
   },
   "source": [
    "Na graf primijenimo slučajnu šetnju (_random walk_)- vjerojatnost da pratimo bilo koji link je jednaka:"
   ]
  },
  {
   "cell_type": "code",
   "execution_count": 3,
   "metadata": {
    "collapsed": false,
    "nbpresent": {
     "id": "4ca78374-00d1-4c7a-af63-28daa0b57223"
    }
   },
   "outputs": [
    {
     "data": {
      "text/plain": [
       "6×6 Array{Float64,2}:\n",
       " 0.0  0.0  0.0       1.0  0.0  1.0\n",
       " 0.5  0.0  0.0       0.0  0.0  0.0\n",
       " 0.0  0.5  0.0       0.0  0.0  0.0\n",
       " 0.0  0.5  0.333333  0.0  0.0  0.0\n",
       " 0.0  0.0  0.333333  0.0  0.0  0.0\n",
       " 0.5  0.0  0.333333  0.0  0.0  0.0"
      ]
     },
     "execution_count": 3,
     "metadata": {},
     "output_type": "execute_result"
    }
   ],
   "source": [
    "c=sum(G,1)\n",
    "n=size(G,1)\n",
    "for j=1:n\n",
    "    if c[j]>0\n",
    "        G[:,j]=G[:,j]/c[j]\n",
    "    end\n",
    "end\n",
    "full(G)"
   ]
  },
  {
   "cell_type": "markdown",
   "metadata": {
    "nbpresent": {
     "id": "c82e5cb0-d85d-41df-abdf-5ae6bdab7ccd"
    }
   },
   "source": [
    "* $p$: vjerojatnost da pratimo neki link\n",
    "* $1-p$:  je vjerojatnost da odemo na neku drugu slučajnu stranicu\n",
    "* google koristi $p=0.85$ ?"
   ]
  },
  {
   "cell_type": "code",
   "execution_count": 4,
   "metadata": {
    "collapsed": false,
    "nbpresent": {
     "id": "799e14b7-f4a0-4f55-a8f8-fc821ce0fd93"
    }
   },
   "outputs": [
    {
     "data": {
      "text/plain": [
       "6×6 Array{Float64,2}:\n",
       " 0.025  0.025  0.025     0.875  0.166667  0.875\n",
       " 0.45   0.025  0.025     0.025  0.166667  0.025\n",
       " 0.025  0.45   0.025     0.025  0.166667  0.025\n",
       " 0.025  0.45   0.308333  0.025  0.166667  0.025\n",
       " 0.025  0.025  0.308333  0.025  0.166667  0.025\n",
       " 0.45   0.025  0.308333  0.025  0.166667  0.025"
      ]
     },
     "execution_count": 4,
     "metadata": {},
     "output_type": "execute_result"
    }
   ],
   "source": [
    "p=0.85\n",
    "z = ((1-p)*(c.!=0) + (c.==0))/n\n",
    "A=p*G+ones(n)*z"
   ]
  },
  {
   "cell_type": "markdown",
   "metadata": {
    "nbpresent": {
     "id": "96822e37-d2f5-4503-9655-e6040556107e"
    }
   },
   "source": [
    "Krenimo u slučajnu šetnju od vektora $x_0=\\begin{bmatrix} 1/n \\\\ 1/n \\\\ \\vdots \\\\ 1/n \\end{bmatrix}$.\n",
    "\n",
    "Sljedeći vektori u nizu su \n",
    "\n",
    "$$\n",
    "x_1=A\\cdot x_0 \\\\\n",
    "x_2=A\\cdot x_1 \\\\\n",
    "x_3=A\\cdot x_2\\\\\n",
    "\\vdots\n",
    "$$\n",
    "\n",
    "Kada se algoritam stabilizira, odnosno kada je \n",
    "\n",
    "$$\n",
    "A\\cdot x\\approx x,\n",
    "$$\n",
    "\n",
    "tada je element vektora $x[i]$ __rang stranice__ $i$."
   ]
  },
  {
   "cell_type": "code",
   "execution_count": 5,
   "metadata": {
    "collapsed": false,
    "nbpresent": {
     "id": "93956a24-6b26-4e59-9921-05164b0826a6"
    }
   },
   "outputs": [
    {
     "data": {
      "text/plain": [
       "myPageRank (generic function with 1 method)"
      ]
     },
     "execution_count": 5,
     "metadata": {},
     "output_type": "execute_result"
    }
   ],
   "source": [
    "function myPageRank(G::SparseMatrixCSC{Float64,Int64},steps::Int)\n",
    "    p=0.85\n",
    "    c=sum(G,1)/p\n",
    "    n=size(G,1)\n",
    "    for i=1:n\n",
    "        G.nzval[G.colptr[i]:G.colptr[i+1]-1]./=c[i]\n",
    "    end\n",
    "    e=ones(n)\n",
    "    x=e/n\n",
    "    z = vec(((1-p)*(c.!=0) + (c.==0))/n)\n",
    "    for j=1:steps\n",
    "        x=G*x+(z⋅x)\n",
    "    end\n",
    "    x/norm(x,1)\n",
    "end"
   ]
  },
  {
   "cell_type": "code",
   "execution_count": 6,
   "metadata": {
    "collapsed": false,
    "nbpresent": {
     "id": "f0505634-c456-47dd-a4fe-0a6a86388b81"
    }
   },
   "outputs": [
    {
     "data": {
      "text/plain": [
       "6-element Array{Float64,1}:\n",
       " 0.321024 \n",
       " 0.170538 \n",
       " 0.106596 \n",
       " 0.136795 \n",
       " 0.0643103\n",
       " 0.200737 "
      ]
     },
     "execution_count": 6,
     "metadata": {},
     "output_type": "execute_result"
    }
   ],
   "source": [
    "myPageRank(G,15)"
   ]
  },
  {
   "cell_type": "markdown",
   "metadata": {
    "nbpresent": {
     "id": "c9bf7ecc-5c51-4cb3-9747-dd4bda11560f"
    }
   },
   "source": [
    "### [Stanford web graph](http://snap.stanford.edu/data/web-Stanford.html)\n",
    "\n",
    "Malo veći testni problem."
   ]
  },
  {
   "cell_type": "code",
   "execution_count": 7,
   "metadata": {
    "collapsed": false,
    "nbpresent": {
     "id": "637112da-d944-4bce-a751-e8a95f9014a2"
    }
   },
   "outputs": [
    {
     "data": {
      "text/plain": [
       "2312497×2 Array{Int64,2}:\n",
       "      1    6548\n",
       "      1   15409\n",
       "   6548   57031\n",
       "  15409   13102\n",
       "      2   17794\n",
       "      2   25202\n",
       "      2   53625\n",
       "      2   54582\n",
       "      2   64930\n",
       "      2   73764\n",
       "      2   84477\n",
       "      2   98628\n",
       "      2  100193\n",
       "      ⋮        \n",
       " 281849  165189\n",
       " 281849  177014\n",
       " 281849  226290\n",
       " 281849  243180\n",
       " 281849  244195\n",
       " 281849  247252\n",
       " 281849  281568\n",
       " 281865  186750\n",
       " 281865  225872\n",
       " 281888  114388\n",
       " 281888  192969\n",
       " 281888  233184"
      ]
     },
     "execution_count": 7,
     "metadata": {},
     "output_type": "execute_result"
    }
   ],
   "source": [
    "W=readdlm(\"web-Stanford.txt\",Int)"
   ]
  },
  {
   "cell_type": "code",
   "execution_count": 8,
   "metadata": {
    "collapsed": false,
    "nbpresent": {
     "id": "cd7c4a66-da5a-4f42-8cd0-f4cff46120df"
    }
   },
   "outputs": [
    {
     "data": {
      "text/plain": [
       "281903×281903 sparse matrix with 2312497 Float64 nonzero entries:\n",
       "\t[6548  ,      1]  =  1.0\n",
       "\t[15409 ,      1]  =  1.0\n",
       "\t[17794 ,      2]  =  1.0\n",
       "\t[25202 ,      2]  =  1.0\n",
       "\t[53625 ,      2]  =  1.0\n",
       "\t[54582 ,      2]  =  1.0\n",
       "\t[64930 ,      2]  =  1.0\n",
       "\t[73764 ,      2]  =  1.0\n",
       "\t[84477 ,      2]  =  1.0\n",
       "\t[98628 ,      2]  =  1.0\n",
       "\t⋮\n",
       "\t[168703, 281902]  =  1.0\n",
       "\t[180771, 281902]  =  1.0\n",
       "\t[266504, 281902]  =  1.0\n",
       "\t[275189, 281902]  =  1.0\n",
       "\t[44103 , 281903]  =  1.0\n",
       "\t[56088 , 281903]  =  1.0\n",
       "\t[90591 , 281903]  =  1.0\n",
       "\t[94440 , 281903]  =  1.0\n",
       "\t[216688, 281903]  =  1.0\n",
       "\t[256539, 281903]  =  1.0\n",
       "\t[260899, 281903]  =  1.0"
      ]
     },
     "execution_count": 8,
     "metadata": {},
     "output_type": "execute_result"
    }
   ],
   "source": [
    "S=sparse(W[:,2],W[:,1],1.0)"
   ]
  },
  {
   "cell_type": "code",
   "execution_count": 9,
   "metadata": {
    "collapsed": false,
    "nbpresent": {
     "id": "b5352330-ab91-41fe-824c-e5ccc2ace595"
    }
   },
   "outputs": [
    {
     "name": "stdout",
     "output_type": "stream",
     "text": [
      "  1.813601 seconds (846.80 k allocations: 542.598 MB, 13.46% gc time)\n"
     ]
    }
   ],
   "source": [
    "@time x100=myPageRank(S,100);"
   ]
  },
  {
   "cell_type": "code",
   "execution_count": 10,
   "metadata": {
    "collapsed": false,
    "nbpresent": {
     "id": "cc0d1a66-a69a-478f-8db8-e6a850725631"
    }
   },
   "outputs": [
    {
     "data": {
      "text/plain": [
       "2.349138102570129e-7"
      ]
     },
     "execution_count": 10,
     "metadata": {},
     "output_type": "execute_result"
    }
   ],
   "source": [
    "x101=myPageRank(S,101)\n",
    "maxabs((x100-x101)./x100)"
   ]
  },
  {
   "cell_type": "code",
   "execution_count": 11,
   "metadata": {
    "collapsed": false,
    "nbpresent": {
     "id": "7caf1ddf-e679-41b6-83ae-75260f278dac"
    }
   },
   "outputs": [
    {
     "data": {
      "text/plain": [
       "([89073,226411,241454,262860,134832,234704,136821,68889,105607,69358  …  281647,281700,281715,281728,281778,281785,281813,281849,281865,281888],[0.0113029,0.00926783,0.00829727,0.00302312,0.00300128,0.00257173,0.00245371,0.00243079,0.00239105,0.00236401  …  5.33369e-7,5.33369e-7,5.33369e-7,5.33369e-7,5.33369e-7,5.33369e-7,5.33369e-7,5.33369e-7,5.33369e-7,5.33369e-7])"
      ]
     },
     "execution_count": 11,
     "metadata": {},
     "output_type": "execute_result"
    }
   ],
   "source": [
    "sortperm(x100,rev=true), sort(x100,rev=true)"
   ]
  },
  {
   "cell_type": "markdown",
   "metadata": {
    "nbpresent": {
     "id": "8e161bdf-c2f4-457b-aa37-87cb7b94a62a"
    }
   },
   "source": [
    "## Doba preporuka \n",
    "\n",
    "NetFlix, Amazon Prime, PickBox, ... - on-line videoteke (filmovi i serije)\n",
    "\n",
    "[NetFlix](https://www.netflix.com/hr/)\n",
    "\n",
    " * [80 milijuna korisnika](https://www.statista.com/statistics/250934/quarterly-number-of-netflix-streaming-subscribers-worldwide/), 5.000 filmova\n",
    " * [NetFlix Prize](http://www.kdd.org/kdd2014/tutorials/KDD%20-%20The%20Recommender%20Problem%20Revisited.pdf)\n",
    " "
   ]
  },
  {
   "cell_type": "markdown",
   "metadata": {
    "nbpresent": {
     "id": "5bd4499f-d408-4ef5-873c-d2af140a3863"
    }
   },
   "source": [
    "## Matematika\n",
    "\n",
    "Netflix Recommendation Engine se temelji na aproksimaciji (velike i rijetke) matrice\n",
    "```\n",
    "M = Korisnici x Filmovi \n",
    "```\n",
    "pomoću rastava singularnih vrijednosti (SVD): \n",
    "\n",
    "* [IncrementalSVD.jl](https://github.com/aaw/IncrementalSVD.jl)\n",
    "* [A parallel recommendation engine in Julia](http://juliacomputing.com/blog/2016/04/22/a-parallel-recommendation-engine-in-julia.html)"
   ]
  },
  {
   "cell_type": "markdown",
   "metadata": {
    "nbpresent": {
     "id": "95e8dd12-5e61-4c6e-903e-21d9933c61d6"
    }
   },
   "source": [
    "## Sličnost\n",
    "\n",
    "Sličnost korisnika $i$ i $k$:\n",
    "$$\n",
    "\\cos \\angle (i,k)=\\frac{(M[i,:],M[k,:])}{\\|M[i,:]\\| \\cdot \\|M[k,:]\\|}\n",
    "$$\n",
    "Sličnost filmova $i$ i $k$:\n",
    "$$\n",
    "\\cos \\angle (i,k)=\\frac{(M[:,i],M[:,k)}{\\|M[:,i]\\| \\cdot \\|M[:,k]\\|}\n",
    "$$"
   ]
  },
  {
   "cell_type": "markdown",
   "metadata": {
    "nbpresent": {
     "id": "310609df-23c9-43d4-be57-c9e837921be5"
    }
   },
   "source": [
    "## Pretraživanje\n",
    "\n",
    "Redak $M[k,:]$ - što korisnik $k$ misli o filmovima.\n",
    "\n",
    "Stupac $M[:,f]$ - što o filmu $f$ misle korisnici\n",
    "\n",
    "Element $M[k,f]$ - što korisnik $k$ misli o filmu $f$."
   ]
  },
  {
   "cell_type": "markdown",
   "metadata": {
    "nbpresent": {
     "id": "0dc62bf7-111e-4a65-aa8f-d581ccc78705"
    }
   },
   "source": [
    "## Problem\n",
    "\n",
    "Matrica $M$ je rijetka pa nemamo dovoljno informacija. Na primjer, \n",
    "\n",
    "```\n",
    "900188 ocjena / ( 6040 korisnika x 3706 filmova ) = 4%\n",
    "```"
   ]
  },
  {
   "cell_type": "markdown",
   "metadata": {
    "nbpresent": {
     "id": "4944f869-4080-4947-a6ad-a08c3f2dc6b8"
    }
   },
   "source": [
    "## Aproksimacija\n",
    "\n",
    "SVD rastav $M=U\\Sigma V^T$ se aproksimira matricom jako malog ranga (npr. $m=25$)\n",
    "\n",
    "![SVD rastav](svd.png)\n",
    "\n",
    "Približna matrica je puna i daje dovoljno informacija.\n",
    "\n",
    "Efikasna aproksimacija? -> $\\$$ 1.000.000  "
   ]
  },
  {
   "cell_type": "code",
   "execution_count": 12,
   "metadata": {
    "collapsed": false,
    "nbpresent": {
     "id": "b668eb1e-a6ab-4765-b3cc-d146fd9af9b6"
    }
   },
   "outputs": [],
   "source": [
    "# Pkg.clone(\"git://github.com/aaw/IncrementalSVD.jl.git\")"
   ]
  },
  {
   "cell_type": "code",
   "execution_count": 13,
   "metadata": {
    "collapsed": false,
    "nbpresent": {
     "id": "bccc43b9-69b2-440e-a866-7deca5e28515"
    }
   },
   "outputs": [],
   "source": [
    "using IncrementalSVD"
   ]
  },
  {
   "cell_type": "code",
   "execution_count": 14,
   "metadata": {
    "collapsed": false,
    "nbpresent": {
     "id": "49fe305c-c879-4aa3-a255-53b3301f55ff"
    }
   },
   "outputs": [
    {
     "name": "stdout",
     "output_type": "stream",
     "text": [
      "                IncrementalSVD     56 KB     Module\n",
      "                        Rating    136 bytes  DataType\n",
      "                     RatingSet    148 bytes  DataType\n",
      "                  RatingsModel    160 bytes  DataType\n",
      "             cosine_similarity      0 bytes  IncrementalSVD.#cosine_similarity\n",
      "          get_predicted_rating      0 bytes  IncrementalSVD.#get_predicted_rati…\n",
      "                 item_features      0 bytes  IncrementalSVD.#item_features\n",
      "                   item_search      0 bytes  IncrementalSVD.#item_search\n",
      "                         items      0 bytes  IncrementalSVD.#items\n",
      "    load_book_crossing_dataset      0 bytes  IncrementalSVD.#load_book_crossing…\n",
      "  load_large_movielens_dataset      0 bytes  IncrementalSVD.#load_large_moviele…\n",
      "  load_small_movielens_dataset      0 bytes  IncrementalSVD.#load_small_moviele…\n",
      "                          rmse      0 bytes  IncrementalSVD.#rmse\n",
      "                 similar_items      0 bytes  IncrementalSVD.#similar_items\n",
      "                 similar_users      0 bytes  IncrementalSVD.#similar_users\n",
      "                 split_ratings      0 bytes  IncrementalSVD.#split_ratings\n",
      "                         train      0 bytes  IncrementalSVD.#train\n",
      "               truncate_model!      0 bytes  IncrementalSVD.#truncate_model!\n",
      "                 user_features      0 bytes  IncrementalSVD.#user_features\n",
      "                  user_ratings      0 bytes  IncrementalSVD.#user_ratings\n",
      "                         users      0 bytes  IncrementalSVD.#users\n"
     ]
    }
   ],
   "source": [
    "whos(IncrementalSVD)"
   ]
  },
  {
   "cell_type": "code",
   "execution_count": 15,
   "metadata": {
    "collapsed": false,
    "nbpresent": {
     "id": "fe34b160-0094-4f16-be24-7dce3df0d876"
    }
   },
   "outputs": [
    {
     "name": "stdout",
     "output_type": "stream",
     "text": [
      "Reusing existing downloaded files...\n",
      "Loading ratings 100% Time: 0:00:04\n"
     ]
    }
   ],
   "source": [
    "rating_set = load_small_movielens_dataset();"
   ]
  },
  {
   "cell_type": "code",
   "execution_count": 16,
   "metadata": {
    "collapsed": false,
    "nbpresent": {
     "id": "0a04c7fc-c67f-4b4b-aa03-32900cb5651e"
    }
   },
   "outputs": [
    {
     "data": {
      "text/plain": [
       "4-element Array{Symbol,1}:\n",
       " :training_set \n",
       " :test_set     \n",
       " :user_to_index\n",
       " :item_to_index"
      ]
     },
     "execution_count": 16,
     "metadata": {},
     "output_type": "execute_result"
    }
   ],
   "source": [
    "fieldnames(rating_set)"
   ]
  },
  {
   "cell_type": "code",
   "execution_count": 17,
   "metadata": {
    "collapsed": false,
    "nbpresent": {
     "id": "c4456c31-299a-4f3a-9ad1-b9544ce009bd"
    }
   },
   "outputs": [
    {
     "data": {
      "text/plain": [
       "900188-element Array{IncrementalSVD.Rating,1}:\n",
       " IncrementalSVD.Rating(5790,373,3.0) \n",
       " IncrementalSVD.Rating(1587,801,3.0) \n",
       " IncrementalSVD.Rating(4784,23,3.0)  \n",
       " IncrementalSVD.Rating(1912,1517,1.0)\n",
       " IncrementalSVD.Rating(3163,840,5.0) \n",
       " IncrementalSVD.Rating(5434,1059,4.0)\n",
       " IncrementalSVD.Rating(1476,177,4.0) \n",
       " IncrementalSVD.Rating(1274,1023,4.0)\n",
       " IncrementalSVD.Rating(3412,129,5.0) \n",
       " IncrementalSVD.Rating(1128,2626,4.0)\n",
       " IncrementalSVD.Rating(2063,139,3.0) \n",
       " IncrementalSVD.Rating(1425,1054,2.0)\n",
       " IncrementalSVD.Rating(996,1372,4.0) \n",
       " ⋮                                   \n",
       " IncrementalSVD.Rating(1584,950,4.0) \n",
       " IncrementalSVD.Rating(175,548,5.0)  \n",
       " IncrementalSVD.Rating(2067,1011,4.0)\n",
       " IncrementalSVD.Rating(4899,623,3.0) \n",
       " IncrementalSVD.Rating(4508,2960,1.0)\n",
       " IncrementalSVD.Rating(5387,2531,3.0)\n",
       " IncrementalSVD.Rating(2880,885,4.0) \n",
       " IncrementalSVD.Rating(2781,739,4.0) \n",
       " IncrementalSVD.Rating(2907,42,3.0)  \n",
       " IncrementalSVD.Rating(4169,8,4.0)   \n",
       " IncrementalSVD.Rating(2974,476,4.0) \n",
       " IncrementalSVD.Rating(2557,454,5.0) "
      ]
     },
     "execution_count": 17,
     "metadata": {},
     "output_type": "execute_result"
    }
   ],
   "source": [
    "# Format je (korisnik, film, ocjena)\n",
    "rating_set.training_set"
   ]
  },
  {
   "cell_type": "code",
   "execution_count": 18,
   "metadata": {
    "collapsed": false,
    "nbpresent": {
     "id": "227f2334-6846-4dda-a3f7-a3672a820ea7"
    }
   },
   "outputs": [
    {
     "data": {
      "text/plain": [
       "100021-element Array{IncrementalSVD.Rating,1}:\n",
       " IncrementalSVD.Rating(3808,90,2.0)  \n",
       " IncrementalSVD.Rating(2663,245,3.0) \n",
       " IncrementalSVD.Rating(2164,851,3.0) \n",
       " IncrementalSVD.Rating(660,548,3.0)  \n",
       " IncrementalSVD.Rating(5397,152,3.0) \n",
       " IncrementalSVD.Rating(1941,886,3.0) \n",
       " IncrementalSVD.Rating(4425,445,4.0) \n",
       " IncrementalSVD.Rating(3017,106,4.0) \n",
       " IncrementalSVD.Rating(1383,1065,5.0)\n",
       " IncrementalSVD.Rating(33,1588,4.0)  \n",
       " IncrementalSVD.Rating(4480,742,5.0) \n",
       " IncrementalSVD.Rating(549,770,5.0)  \n",
       " IncrementalSVD.Rating(352,1658,4.0) \n",
       " ⋮                                   \n",
       " IncrementalSVD.Rating(3539,427,5.0) \n",
       " IncrementalSVD.Rating(608,1578,2.0) \n",
       " IncrementalSVD.Rating(2080,1159,3.0)\n",
       " IncrementalSVD.Rating(5139,387,5.0) \n",
       " IncrementalSVD.Rating(5446,560,5.0) \n",
       " IncrementalSVD.Rating(393,2484,5.0) \n",
       " IncrementalSVD.Rating(329,644,4.0)  \n",
       " IncrementalSVD.Rating(3729,1020,5.0)\n",
       " IncrementalSVD.Rating(901,417,3.0)  \n",
       " IncrementalSVD.Rating(4387,32,5.0)  \n",
       " IncrementalSVD.Rating(1317,3074,3.0)\n",
       " IncrementalSVD.Rating(877,1888,3.0) "
      ]
     },
     "execution_count": 18,
     "metadata": {},
     "output_type": "execute_result"
    }
   ],
   "source": [
    "rating_set.test_set"
   ]
  },
  {
   "cell_type": "code",
   "execution_count": 19,
   "metadata": {
    "collapsed": false,
    "nbpresent": {
     "id": "eda35ea4-4078-4458-b92d-6c616d4809bf"
    }
   },
   "outputs": [
    {
     "data": {
      "text/plain": [
       "Dict{AbstractString,Int32} with 6040 entries:\n",
       "  \"4304\" => 4304\n",
       "  \"3935\" => 3935\n",
       "  \"5422\" => 5422\n",
       "  \"5734\" => 5734\n",
       "  \"2243\" => 2243\n",
       "  \"1881\" => 1881\n",
       "  \"5425\" => 5425\n",
       "  \"4209\" => 4209\n",
       "  \"1907\" => 1907\n",
       "  \"2923\" => 2923\n",
       "  \"599\"  => 599\n",
       "  \"2491\" => 2491\n",
       "  \"5944\" => 5944\n",
       "  \"228\"  => 228\n",
       "  \"2590\" => 2590\n",
       "  \"3697\" => 3697\n",
       "  \"5031\" => 5031\n",
       "  \"2579\" => 2579\n",
       "  \"5551\" => 5551\n",
       "  \"1880\" => 1880\n",
       "  \"2562\" => 2562\n",
       "  \"3215\" => 3215\n",
       "  \"3991\" => 3991\n",
       "  \"4652\" => 4652\n",
       "  \"4088\" => 4088\n",
       "  ⋮      => ⋮"
      ]
     },
     "execution_count": 19,
     "metadata": {},
     "output_type": "execute_result"
    }
   ],
   "source": [
    "# Korisnici i njihove šifre\n",
    "rating_set.user_to_index"
   ]
  },
  {
   "cell_type": "code",
   "execution_count": 20,
   "metadata": {
    "collapsed": false,
    "nbpresent": {
     "id": "b617e472-3cbb-4dac-b889-0ede4baa5299"
    },
    "scrolled": true
   },
   "outputs": [
    {
     "data": {
      "text/plain": [
       "Dict{AbstractString,Int32} with 3706 entries:\n",
       "  \"Fried Green Tomatoes (1991)\"                                       => 594\n",
       "  \"Milk Money (1994)\"                                                 => 1361\n",
       "  \"From Russia with Love (1963)\"                                      => 729\n",
       "  \"House II: The Second Story (1987)\"                                 => 1247\n",
       "  \"Held Up (2000)\"                                                    => 3549\n",
       "  \"Missing in Action 2: The Beginning (1985)\"                         => 2177\n",
       "  \"Murder, My Sweet (1944)\"                                           => 996\n",
       "  \"Hidden, The (1987)\"                                                => 981\n",
       "  \"Cable Guy, The (1996)\"                                             => 669\n",
       "  \"Big Kahuna, The (2000)\"                                            => 893\n",
       "  \"Addams Family Values (1993)\"                                       => 1857\n",
       "  \"Farinelli: il castrato (1994)\"                                     => 1945\n",
       "  \"Education of Little Tree, The (1997)\"                              => 2759\n",
       "  \"In God's Hands (1998)\"                                             => 2814\n",
       "  \"Last Man Standing (1996)\"                                          => 1840\n",
       "  \"Sixth Sense, The (1999)\"                                           => 39\n",
       "  \"Star Maps (1997)\"                                                  => 2670\n",
       "  \"Girl, Interrupted (1999)\"                                          => 32\n",
       "  \"Stand by Me (1986)\"                                                => 85\n",
       "  \"Rob Roy (1995)\"                                                    => 449\n",
       "  \"Caligula (1980)\"                                                   => 2532\n",
       "  \"Flirting With Disaster (1996)\"                                     => 1290\n",
       "  \"Hook (1991)\"                                                       => 657\n",
       "  \"Institute Benjamenta, or This Dream People Call Human Life (1995)\" => 3397\n",
       "  \"Way We Were, The (1973)\"                                           => 762\n",
       "  ⋮                                                                   => ⋮"
      ]
     },
     "execution_count": 20,
     "metadata": {},
     "output_type": "execute_result"
    }
   ],
   "source": [
    "# Filmovi i njihove šifre\n",
    "rating_set.item_to_index"
   ]
  },
  {
   "cell_type": "code",
   "execution_count": 21,
   "metadata": {
    "collapsed": false,
    "nbpresent": {
     "id": "2de54f0f-448a-431f-a6b4-fabdafe1c663"
    },
    "scrolled": true
   },
   "outputs": [
    {
     "data": {
      "text/plain": [
       "Base.KeyIterator for a Dict{AbstractString,Int32} with 3706 entries. Keys:\n",
       "  \"Fried Green Tomatoes (1991)\"\n",
       "  \"Milk Money (1994)\"\n",
       "  \"From Russia with Love (1963)\"\n",
       "  \"House II: The Second Story (1987)\"\n",
       "  \"Held Up (2000)\"\n",
       "  \"Missing in Action 2: The Beginning (1985)\"\n",
       "  \"Murder, My Sweet (1944)\"\n",
       "  \"Hidden, The (1987)\"\n",
       "  \"Cable Guy, The (1996)\"\n",
       "  \"Big Kahuna, The (2000)\"\n",
       "  \"Addams Family Values (1993)\"\n",
       "  \"Farinelli: il castrato (1994)\"\n",
       "  \"Education of Little Tree, The (1997)\"\n",
       "  \"In God's Hands (1998)\"\n",
       "  \"Last Man Standing (1996)\"\n",
       "  \"Sixth Sense, The (1999)\"\n",
       "  \"Star Maps (1997)\"\n",
       "  \"Girl, Interrupted (1999)\"\n",
       "  \"Stand by Me (1986)\"\n",
       "  \"Rob Roy (1995)\"\n",
       "  \"Caligula (1980)\"\n",
       "  \"Flirting With Disaster (1996)\"\n",
       "  \"Hook (1991)\"\n",
       "  \"Institute Benjamenta, or This Dream People Call Human Life (1995)\"\n",
       "  ⋮"
      ]
     },
     "execution_count": 21,
     "metadata": {},
     "output_type": "execute_result"
    }
   ],
   "source": [
    "# Možemo posebno izvaditi naslove ...\n",
    "keys(rating_set.item_to_index)"
   ]
  },
  {
   "cell_type": "code",
   "execution_count": 22,
   "metadata": {
    "collapsed": false,
    "nbpresent": {
     "id": "78d27a10-f1f4-4d6e-9d23-e5e734f61466"
    }
   },
   "outputs": [
    {
     "data": {
      "text/plain": [
       "Base.ValueIterator for a Dict{AbstractString,Int32} with 3706 entries. Values:\n",
       "  594\n",
       "  1361\n",
       "  729\n",
       "  1247\n",
       "  3549\n",
       "  2177\n",
       "  996\n",
       "  981\n",
       "  669\n",
       "  893\n",
       "  1857\n",
       "  1945\n",
       "  2759\n",
       "  2814\n",
       "  1840\n",
       "  39\n",
       "  2670\n",
       "  32\n",
       "  85\n",
       "  449\n",
       "  2532\n",
       "  1290\n",
       "  657\n",
       "  3397\n",
       "  ⋮"
      ]
     },
     "execution_count": 22,
     "metadata": {},
     "output_type": "execute_result"
    }
   ],
   "source": [
    "# i šifre\n",
    "values(rating_set.item_to_index)"
   ]
  },
  {
   "cell_type": "code",
   "execution_count": 23,
   "metadata": {
    "collapsed": false,
    "nbpresent": {
     "id": "d4c4b874-0934-45e3-bd91-ccb28e97ef46"
    }
   },
   "outputs": [
    {
     "data": {
      "text/plain": [
       "96-element Array{Tuple{SubString{String},Float32},1}:\n",
       " (\"American Beauty (1999)\",5.0)                       \n",
       " (\"Groundhog Day (1993)\",5.0)                         \n",
       " (\"Defending Your Life (1991)\",5.0)                   \n",
       " (\"Dances with Wolves (1990)\",5.0)                    \n",
       " (\"Time Bandits (1981)\",5.0)                          \n",
       " (\"When Harry Met Sally... (1989)\",5.0)               \n",
       " (\"Gattaca (1997)\",5.0)                               \n",
       " (\"Rock, The (1996)\",5.0)                             \n",
       " (\"Babe (1995)\",5.0)                                  \n",
       " (\"Brothers McMullen, The (1995)\",5.0)                \n",
       " (\"Princess Bride, The (1987)\",5.0)                   \n",
       " (\"Brazil (1985)\",5.0)                                \n",
       " (\"One Flew Over the Cuckoo's Nest (1975)\",5.0)       \n",
       " ⋮                                                    \n",
       " (\"Young Sherlock Holmes (1985)\",2.0)                 \n",
       " (\"Back to the Future (1985)\",2.0)                    \n",
       " (\"Dark Crystal, The (1982)\",2.0)                     \n",
       " (\"2001: A Space Odyssey (1968)\",2.0)                 \n",
       " (\"Dirty Dancing (1987)\",1.0)                         \n",
       " (\"Star Trek VI: The Undiscovered Country (1991)\",1.0)\n",
       " (\"Sudden Death (1995)\",1.0)                          \n",
       " (\"Jewel of the Nile, The (1985)\",1.0)                \n",
       " (\"Flashdance (1983)\",1.0)                            \n",
       " (\"Blind Date (1987)\",1.0)                            \n",
       " (\"Grease 2 (1982)\",1.0)                              \n",
       " (\"Blue Lagoon, The (1980)\",1.0)                      "
      ]
     },
     "execution_count": 23,
     "metadata": {},
     "output_type": "execute_result"
    }
   ],
   "source": [
    "# Koje je filmove ocijenio korisnik \"3000\"\n",
    "user_ratings(rating_set, \"3000\")"
   ]
  },
  {
   "cell_type": "code",
   "execution_count": 24,
   "metadata": {
    "collapsed": false,
    "nbpresent": {
     "id": "d3cf851c-af8c-4b79-8f2f-7d01530a4516"
    }
   },
   "outputs": [
    {
     "name": "stdout",
     "output_type": "stream",
     "text": [
      "Sling Blade (1996)\n",
      "Blade (1998)\n",
      "Blade Runner (1982)\n",
      "Some Folks Call It a Sling Blade (1993)\n"
     ]
    },
    {
     "ename": "LoadError",
     "evalue": "LoadError: UnicodeError: invalid character index\nwhile loading In[24], in expression starting on line 2",
     "output_type": "error",
     "traceback": [
      "LoadError: UnicodeError: invalid character index\nwhile loading In[24], in expression starting on line 2",
      "",
      " in slow_utf8_next(::Array{UInt8,1}, ::UInt8, ::Int64) at .\\strings\\string.jl:67",
      " in next at .\\strings\\string.jl:92 [inlined]",
      " in next(::SubString{String}, ::Int64) at .\\strings\\types.jl:51",
      " in search(::SubString{String}, ::Char, ::Int64) at .\\strings\\search.jl:12",
      " in _searchindex(::SubString{String}, ::String, ::Int64) at .\\strings\\search.jl:31",
      " in contains(::SubString{String}, ::String) at .\\strings\\search.jl:310",
      " in macro expansion; at .\\In[24]:3 [inlined]",
      " in anonymous at .\\<missing>:?"
     ]
    }
   ],
   "source": [
    "# Nađimo točan naziv i šifru za \"Blade runner\"\n",
    "for k in keys(rating_set.item_to_index)\n",
    "    if contains(k,\"Blade\")\n",
    "        println(k)\n",
    "    end\n",
    "end"
   ]
  },
  {
   "cell_type": "code",
   "execution_count": 25,
   "metadata": {
    "collapsed": false,
    "nbpresent": {
     "id": "f9f29054-8d7f-4779-b29c-aa3834e2de8f"
    }
   },
   "outputs": [
    {
     "data": {
      "text/plain": [
       "744"
      ]
     },
     "execution_count": 25,
     "metadata": {},
     "output_type": "execute_result"
    }
   ],
   "source": [
    "get(rating_set.item_to_index,\"Blade Runner (1982)\",0)"
   ]
  },
  {
   "cell_type": "code",
   "execution_count": 26,
   "metadata": {
    "collapsed": false,
    "nbpresent": {
     "id": "1251af52-47ea-4d0f-a8e8-586a1f5517af"
    }
   },
   "outputs": [],
   "source": [
    "# Da li je korisnik \"3000\" ocijenio \"Blade Runner\" ?\n",
    "for k in user_ratings(rating_set,\"3000\")\n",
    "    if contains(k[1],\"Blade\")\n",
    "        println(k)\n",
    "    end\n",
    "end"
   ]
  },
  {
   "cell_type": "code",
   "execution_count": 27,
   "metadata": {
    "collapsed": false,
    "nbpresent": {
     "id": "97a60042-8c73-46bf-9f9e-66281228aecc"
    }
   },
   "outputs": [],
   "source": [
    "# Da li je korisnik \"3000\" ocijenio \"Citizen Kane\" ?\n",
    "for k in user_ratings(rating_set,\"3000\")\n",
    "    if contains(k[1],\"Citizen\")\n",
    "        println(k)\n",
    "    end\n",
    "end"
   ]
  },
  {
   "cell_type": "code",
   "execution_count": 28,
   "metadata": {
    "collapsed": false,
    "nbpresent": {
     "id": "883cf538-0f01-4a0a-bd2f-dc14fed20fd0"
    }
   },
   "outputs": [
    {
     "name": "stdout",
     "output_type": "stream",
     "text": [
      "Computing truncated rank 25 SVD 100% Time: 0:02:31\n"
     ]
    }
   ],
   "source": [
    "# Ovo traje dvije i po minute\n",
    "model = train(rating_set, 25);"
   ]
  },
  {
   "cell_type": "code",
   "execution_count": 29,
   "metadata": {
    "collapsed": false,
    "nbpresent": {
     "id": "4ab42861-734c-409a-ab8e-0c065328987f"
    }
   },
   "outputs": [
    {
     "data": {
      "text/plain": [
       "5-element Array{Symbol,1}:\n",
       " :user_to_index\n",
       " :item_to_index\n",
       " :U            \n",
       " :S            \n",
       " :V            "
      ]
     },
     "execution_count": 29,
     "metadata": {},
     "output_type": "execute_result"
    }
   ],
   "source": [
    "fieldnames(model)"
   ]
  },
  {
   "cell_type": "code",
   "execution_count": 30,
   "metadata": {
    "collapsed": false,
    "nbpresent": {
     "id": "9175e158-5a25-4d87-8236-0659ef31f3fd"
    }
   },
   "outputs": [
    {
     "data": {
      "text/plain": [
       "6040×25 Array{Float32,2}:\n",
       " 0.0101124   0.0116776    0.0168061   0.00919807  …   0.016471     0.0141891 \n",
       " 0.0141477   0.011056     0.00970759  0.0109542       0.00851747   0.0129143 \n",
       " 0.00994222  0.00888608   0.0162732   0.00876337      0.00450194   0.0224375 \n",
       " 0.00719278  0.00676934   0.0158138   0.0044782       0.00630806   0.011484  \n",
       " 0.0133911   0.0164393    0.00162767  0.0161445       0.00188172   0.0124033 \n",
       " 0.0107277   0.0167289    0.0150532   0.016507    …   0.0106602    0.015633  \n",
       " 0.00809611  0.00696858   0.0178111   0.00462718      0.00938611   0.0117599 \n",
       " 0.0155917   0.0144396    0.00974111  0.0123784       0.00890559   0.0110218 \n",
       " 0.0132811   0.00863529   0.011734    0.00704552      0.00837724   0.00740855\n",
       " 0.018621    0.0127807   -0.0106548   0.0240958       0.0148448    0.00903233\n",
       " 0.0130166   0.0110521    0.0087348   0.0105422   …   0.00757259   0.00987698\n",
       " 0.00609657  0.0082923    0.0143675   0.00647175      0.0108519    0.0184329 \n",
       " 0.0124777   0.00994313   0.0125661   0.00837553      0.00989997   0.0167364 \n",
       " ⋮                                                ⋱                          \n",
       " 0.00643943  0.012234     0.0139136   0.0106783       0.0175109    0.0194643 \n",
       " 0.0149894   0.0122839    0.0157086   0.0106903       0.0161228    0.00694501\n",
       " 0.00942856  0.0104702    0.0170055   0.010678    …   0.0139434    0.0165098 \n",
       " 0.0143337   0.0137385    0.0127559   0.0112462       0.0106576    0.0105771 \n",
       " 0.0110488   0.00979945   0.0173689   0.00661163      0.0102122    0.0100138 \n",
       " 0.00568034  0.0112584    0.0125806   0.00929177      0.0108974    0.0205254 \n",
       " 0.014453    0.00810792   0.00343611  0.00629481     -0.00997524   0.0230631 \n",
       " 0.0168589   0.0156429   -0.0225872   0.0234086   …  -0.0158147    0.00715868\n",
       " 0.0152196   0.0105898   -0.00108503  0.0126275       0.00435153   0.0216756 \n",
       " 0.00534591  0.00911178   0.0122514   0.00810941      0.010051     0.0254772 \n",
       " 0.0144143   0.0178307    0.00852989  0.0115572       0.00563416   0.0082543 \n",
       " 0.015757    0.0174006   -0.00991154  0.0180771      -0.000282395  0.00160913"
      ]
     },
     "execution_count": 30,
     "metadata": {},
     "output_type": "execute_result"
    }
   ],
   "source": [
    "model.U"
   ]
  },
  {
   "cell_type": "code",
   "execution_count": 31,
   "metadata": {
    "collapsed": false,
    "nbpresent": {
     "id": "5f5fef72-581c-4f0a-bdec-2aba63597e82"
    }
   },
   "outputs": [
    {
     "data": {
      "text/plain": [
       "25-element Array{Float32,1}:\n",
       " 8192.44 \n",
       " 2144.0  \n",
       "  830.729\n",
       " 1145.8  \n",
       "  904.974\n",
       " 1126.62 \n",
       "  686.182\n",
       "  360.554\n",
       "  364.215\n",
       "  260.892\n",
       "  241.281\n",
       "  315.431\n",
       "  292.136\n",
       "  241.423\n",
       "  227.429\n",
       "  272.992\n",
       "  227.568\n",
       "  213.849\n",
       "  195.05 \n",
       "  177.823\n",
       "  210.733\n",
       "  192.379\n",
       "  161.099\n",
       "  120.392\n",
       "  104.472"
      ]
     },
     "execution_count": 31,
     "metadata": {},
     "output_type": "execute_result"
    }
   ],
   "source": [
    "model.S"
   ]
  },
  {
   "cell_type": "code",
   "execution_count": 32,
   "metadata": {
    "collapsed": false,
    "nbpresent": {
     "id": "57d586fa-798e-44cb-9e81-f87754188ea8"
    }
   },
   "outputs": [
    {
     "data": {
      "text/plain": [
       "3706×25 Array{Float32,2}:\n",
       " 0.0360245   0.00790537  0.0668403   …  -0.0249291    0.0174519 \n",
       " 0.0247798   0.0151885   0.0199126      -0.00658329   0.011206  \n",
       " 0.0303174   0.0135805   0.0307561      -0.00672107   0.0198856 \n",
       " 0.032134    0.0117064   0.0534201       0.00161758  -0.00881031\n",
       " 0.031527    0.00747639  0.0551341       0.0101183   -0.012524  \n",
       " 0.034803    0.00473748  0.0705046   …  -0.0211418    0.00801113\n",
       " 0.0304259   0.0081056   0.03053        -0.00417175   0.00722762\n",
       " 0.0330957   0.00410418  0.0516199      -0.00581658   0.0120402 \n",
       " 0.0285701   0.00698643  0.0228329       0.00798391   0.0266438 \n",
       " 0.033364    0.00482974  0.0528213      -0.0225152    0.0404948 \n",
       " 0.029748    0.00519264  0.0384952   …   0.00962256  -0.0158549 \n",
       " 0.017696    0.0268795   0.00949011      0.00858581   0.0131488 \n",
       " 0.0255312   0.0186715   0.0123975       0.00776442   0.0121873 \n",
       " ⋮                                   ⋱                          \n",
       " 0.00118586  0.00259858  0.0040607       0.0133984    0.0144903 \n",
       " 0.00114246  0.00242873  0.00387595  …   0.0120583    0.0125554 \n",
       " 0.00112234  0.00224653  0.00368261      0.00990203   0.0106285 \n",
       " 0.001166    0.00261666  0.00407446      0.0142276    0.0144631 \n",
       " 0.00119     0.00259213  0.00386915      0.0105354    0.0117978 \n",
       " 0.00126745  0.00246668  0.00344606      0.013145     0.0100103 \n",
       " 0.00119616  0.0026206   0.0040501   …   0.0135847    0.0133023 \n",
       " 0.00136592  0.00291479  0.00404775      0.0153248    0.0173856 \n",
       " 0.00128945  0.00249344  0.00345093      0.0104328    0.0115124 \n",
       " 0.00115678  0.0022896   0.00364934      0.00977003   0.0106788 \n",
       " 0.00128652  0.00278592  0.00406201      0.0136477    0.0123338 \n",
       " 0.00122835  0.00263589  0.00387143  …   0.0124415    0.0124925 "
      ]
     },
     "execution_count": 32,
     "metadata": {},
     "output_type": "execute_result"
    }
   ],
   "source": [
    "model.V"
   ]
  },
  {
   "cell_type": "code",
   "execution_count": 33,
   "metadata": {
    "collapsed": false,
    "nbpresent": {
     "id": "22056d79-9af6-4ec3-8a7a-32344c7982ef"
    }
   },
   "outputs": [
    {
     "data": {
      "text/plain": [
       "10-element Array{SubString{String},1}:\n",
       " \"Friday the 13th (1980)\"                                    \n",
       " \"Amityville Horror, The (1979)\"                             \n",
       " \"Jaws 2 (1978)\"                                             \n",
       " \"Omen, The (1976)\"                                          \n",
       " \"Cujo (1983)\"                                               \n",
       " \"Friday the 13th Part 2 (1981)\"                             \n",
       " \"Pet Sematary (1989)\"                                       \n",
       " \"Stepford Wives, The (1975)\"                                \n",
       " \"First Blood (1982)\"                                        \n",
       " \"Nightmare on Elm Street Part 2: Freddy's Revenge, A (1985)\""
      ]
     },
     "execution_count": 33,
     "metadata": {},
     "output_type": "execute_result"
    }
   ],
   "source": [
    "similar_items(model, \"Friday the 13th (1980)\")"
   ]
  },
  {
   "cell_type": "code",
   "execution_count": 34,
   "metadata": {
    "collapsed": false,
    "nbpresent": {
     "id": "f5b090ca-1b56-49a2-b3e1-f46e01e28f77"
    }
   },
   "outputs": [
    {
     "data": {
      "text/html": [
       "similar_items(model::<b>IncrementalSVD.RatingsModel</b>, item) at <a href=\"https://github.com/aaw/IncrementalSVD.jl/tree/bfb18ddf8aa238e3e48f0eea7a014fda502c40c6/src/util.jl#L113\" target=\"_blank\">C:\\Users\\Ivan\\.julia\\v0.5\\IncrementalSVD\\src\\util.jl:113</a>"
      ],
      "text/plain": [
       "similar_items(model::IncrementalSVD.RatingsModel, item) at C:\\Users\\Ivan\\.julia\\v0.5\\IncrementalSVD\\src\\util.jl:113"
      ]
     },
     "execution_count": 34,
     "metadata": {},
     "output_type": "execute_result"
    }
   ],
   "source": [
    "@which similar_items(model, \"Friday the 13th (1980)\")"
   ]
  },
  {
   "cell_type": "code",
   "execution_count": 35,
   "metadata": {
    "collapsed": false,
    "nbpresent": {
     "id": "84987c4b-dae3-44b0-a710-91e435d5b13b"
    }
   },
   "outputs": [
    {
     "data": {
      "text/plain": [
       "10-element Array{SubString{String},1}:\n",
       " \"Citizen Kane (1941)\"                                                        \n",
       " \"Chinatown (1974)\"                                                           \n",
       " \"Rear Window (1954)\"                                                         \n",
       " \"Vertigo (1958)\"                                                             \n",
       " \"Lawrence of Arabia (1962)\"                                                  \n",
       " \"Dr. Strangelove or: How I Learned to Stop Worrying and Love the Bomb (1963)\"\n",
       " \"M*A*S*H (1970)\"                                                             \n",
       " \"Casablanca (1942)\"                                                          \n",
       " \"Manchurian Candidate, The (1962)\"                                           \n",
       " \"Maltese Falcon, The (1941)\"                                                 "
      ]
     },
     "execution_count": 35,
     "metadata": {},
     "output_type": "execute_result"
    }
   ],
   "source": [
    "similar_items(model, \"Citizen Kane (1941)\")"
   ]
  },
  {
   "cell_type": "code",
   "execution_count": 36,
   "metadata": {
    "collapsed": false,
    "nbpresent": {
     "id": "b6f3dae2-a575-42ac-9b64-2ebe7207749d"
    }
   },
   "outputs": [
    {
     "data": {
      "text/plain": [
       "10-element Array{SubString{String},1}:\n",
       " \"3000\"\n",
       " \"2202\"\n",
       " \"5613\"\n",
       " \"4810\"\n",
       " \"5715\"\n",
       " \"4718\"\n",
       " \"244\" \n",
       " \"4989\"\n",
       " \"3183\"\n",
       " \"5201\""
      ]
     },
     "execution_count": 36,
     "metadata": {},
     "output_type": "execute_result"
    }
   ],
   "source": [
    "similar_users(model,\"3000\")"
   ]
  },
  {
   "cell_type": "code",
   "execution_count": 37,
   "metadata": {
    "collapsed": false,
    "nbpresent": {
     "id": "480f4b30-a821-4873-9007-ba1533569c23"
    }
   },
   "outputs": [
    {
     "data": {
      "text/plain": [
       "4.205429f0"
      ]
     },
     "execution_count": 37,
     "metadata": {},
     "output_type": "execute_result"
    }
   ],
   "source": [
    "# Stvarna ocjena je bila 4.0\n",
    "get_predicted_rating(model, \"3000\", \"Blade Runner (1982)\")"
   ]
  },
  {
   "cell_type": "code",
   "execution_count": 38,
   "metadata": {
    "collapsed": false,
    "nbpresent": {
     "id": "f4108b64-09bd-45bc-8528-f1ee6f1e03f8"
    }
   },
   "outputs": [
    {
     "data": {
      "text/plain": [
       "4.167101f0"
      ]
     },
     "execution_count": 38,
     "metadata": {},
     "output_type": "execute_result"
    }
   ],
   "source": [
    "IncrementalSVD.get_predicted_rating(model, \"3000\", \"Citizen Kane (1941)\")"
   ]
  },
  {
   "cell_type": "markdown",
   "metadata": {
    "nbpresent": {
     "id": "be0dcc40-6967-43f1-b183-1a84d1231b7c"
    }
   },
   "source": [
    "## Tehnologija - github\n",
    "\n",
    "Open Source!\n",
    "\n",
    "[github]() je sustav za kolaborativan razvoj softvera - izlog!\n"
   ]
  },
  {
   "cell_type": "markdown",
   "metadata": {
    "collapsed": true,
    "nbpresent": {
     "id": "34a48ae6-b0f5-4d22-996f-f73960b088e1"
    }
   },
   "source": [
    "## Julia i Jupyter\n",
    "\n",
    "[Julia](http://julialang.org/) je novi programski jezik (evolucija) za BigData\n",
    "\n",
    "* [JuliaBox](https://juliabox.com/)\n",
    "\n",
    "[Jupyter](http://jupyter.org/) bilježnice:\n",
    " \n",
    " * tekst i programi u 40 jezika (Julia, Python, R)\n",
    " * HTML, knjiga (LaTeX, PDF)\n",
    " * prezentacija, `nbgrader`"
   ]
  },
  {
   "cell_type": "markdown",
   "metadata": {
    "nbpresent": {
     "id": "22a2e6a0-950b-436e-ba76-43bdd7f4e917"
    }
   },
   "source": [
    "## Hvala na pažnji\n",
    "\n",
    "Pitanja?"
   ]
  },
  {
   "cell_type": "code",
   "execution_count": null,
   "metadata": {
    "collapsed": true,
    "nbpresent": {
     "id": "5a1c181f-cbc4-4c2a-b0a2-ef794b15a4e9"
    }
   },
   "outputs": [],
   "source": []
  }
 ],
 "metadata": {
  "anaconda-cloud": {},
  "kernelspec": {
   "display_name": "Julia 0.5.0",
   "language": "julia",
   "name": "julia-0.5"
  },
  "language_info": {
   "file_extension": ".jl",
   "mimetype": "application/julia",
   "name": "julia",
   "version": "0.5.0"
  },
  "nbpresent": {
   "slides": {
    "1cd0ac1d-c1cb-4af0-a0e8-0b8bad5991ba": {
     "id": "1cd0ac1d-c1cb-4af0-a0e8-0b8bad5991ba",
     "prev": "349d3274-d0eb-4ee7-b382-ce9e6bbcd5c4",
     "regions": {
      "86d9dd72-a9cf-4c44-8e0d-d5002b856393": {
       "attrs": {
        "height": 0.862533692722372,
        "width": 0.8909703504043127,
        "x": 0.05754716981132078,
        "y": 0.06765498652291105
       },
       "content": {
        "cell": "5bd4499f-d408-4ef5-873c-d2af140a3863",
        "part": "whole"
       },
       "id": "86d9dd72-a9cf-4c44-8e0d-d5002b856393"
      }
     }
    },
    "349d3274-d0eb-4ee7-b382-ce9e6bbcd5c4": {
     "id": "349d3274-d0eb-4ee7-b382-ce9e6bbcd5c4",
     "prev": "ba488065-74e0-4b8c-98a7-fb8558e1154a",
     "regions": {
      "bd479cc5-076a-4e06-a106-2630ef5ea0c9": {
       "attrs": {
        "height": 0.862533692722372,
        "width": 0.8909703504043127,
        "x": 0.05754716981132078,
        "y": 0.06765498652291105
       },
       "content": {
        "cell": "8e161bdf-c2f4-457b-aa37-87cb7b94a62a",
        "part": "whole"
       },
       "id": "bd479cc5-076a-4e06-a106-2630ef5ea0c9"
      }
     }
    },
    "3f48ce7c-7017-4233-8825-085ad960ed2c": {
     "id": "3f48ce7c-7017-4233-8825-085ad960ed2c",
     "prev": "46500afe-d3ad-4c04-99c1-e4a629ff80fa",
     "regions": {
      "8732f081-c5cf-4ee8-9f9e-23836dd39254": {
       "attrs": {
        "height": 0.862533692722372,
        "width": 0.8909703504043127,
        "x": 0.05754716981132078,
        "y": 0.06765498652291105
       },
       "content": {
        "cell": "0dc62bf7-111e-4a65-aa8f-d581ccc78705",
        "part": "whole"
       },
       "id": "8732f081-c5cf-4ee8-9f9e-23836dd39254"
      }
     }
    },
    "46500afe-d3ad-4c04-99c1-e4a629ff80fa": {
     "id": "46500afe-d3ad-4c04-99c1-e4a629ff80fa",
     "prev": "5893a45f-1a1b-4718-95ce-e884db795854",
     "regions": {
      "76b1f58a-d0f8-4c33-a07c-7c9b7df69728": {
       "attrs": {
        "height": 0.862533692722372,
        "width": 0.8909703504043127,
        "x": 0.05754716981132078,
        "y": 0.06765498652291105
       },
       "content": {
        "cell": "310609df-23c9-43d4-be57-c9e837921be5",
        "part": "whole"
       },
       "id": "76b1f58a-d0f8-4c33-a07c-7c9b7df69728"
      }
     }
    },
    "5893a45f-1a1b-4718-95ce-e884db795854": {
     "id": "5893a45f-1a1b-4718-95ce-e884db795854",
     "prev": "1cd0ac1d-c1cb-4af0-a0e8-0b8bad5991ba",
     "regions": {
      "7c4ffea1-5019-4513-8e16-11661129e1ac": {
       "attrs": {
        "height": 0.862533692722372,
        "width": 0.8909703504043127,
        "x": 0.05754716981132078,
        "y": 0.06765498652291105
       },
       "content": {
        "cell": "95e8dd12-5e61-4c6e-903e-21d9933c61d6",
        "part": "whole"
       },
       "id": "7c4ffea1-5019-4513-8e16-11661129e1ac"
      }
     }
    },
    "69620598-4655-4a65-a2fe-6e709152af57": {
     "id": "69620598-4655-4a65-a2fe-6e709152af57",
     "prev": "b957b398-0d2c-4847-b361-fa13259afa90",
     "regions": {
      "36af71dd-5fd5-4e41-a7cf-7603209fb958": {
       "attrs": {
        "height": 0.862533692722372,
        "width": 0.8909703504043127,
        "x": 0.05754716981132078,
        "y": 0.06765498652291105
       },
       "content": {
        "cell": "be0dcc40-6967-43f1-b183-1a84d1231b7c",
        "part": "whole"
       },
       "id": "36af71dd-5fd5-4e41-a7cf-7603209fb958"
      }
     }
    },
    "8d8ecace-4749-46a8-be9f-51a1eb805331": {
     "id": "8d8ecace-4749-46a8-be9f-51a1eb805331",
     "prev": "cb28b9cd-b502-4716-9f7b-56621414d63d",
     "regions": {
      "32c0514e-1a19-4fb7-8fbd-ead249f4b14c": {
       "attrs": {
        "height": 0.862533692722372,
        "width": 0.8909703504043127,
        "x": 0.05754716981132078,
        "y": 0.06765498652291105
       },
       "content": {
        "cell": "fc9bb354-30c5-40b2-b569-1a31452ff488",
        "part": "whole"
       },
       "id": "32c0514e-1a19-4fb7-8fbd-ead249f4b14c"
      }
     }
    },
    "9418d3f9-1ec7-4989-8e56-dab8e0a74445": {
     "id": "9418d3f9-1ec7-4989-8e56-dab8e0a74445",
     "prev": "8d8ecace-4749-46a8-be9f-51a1eb805331",
     "regions": {
      "16ced40a-d165-41cb-bf8d-8e29cce20e1b": {
       "attrs": {
        "height": 0.862533692722372,
        "width": 0.8909703504043127,
        "x": 0.05754716981132078,
        "y": 0.06765498652291105
       },
       "content": {
        "cell": "4c3647c8-bf68-4fc7-9494-d11fdb86327f",
        "part": "whole"
       },
       "id": "16ced40a-d165-41cb-bf8d-8e29cce20e1b"
      }
     }
    },
    "b957b398-0d2c-4847-b361-fa13259afa90": {
     "id": "b957b398-0d2c-4847-b361-fa13259afa90",
     "prev": "3f48ce7c-7017-4233-8825-085ad960ed2c",
     "regions": {
      "25fb7865-d4e1-4171-b87c-555050a5ca6d": {
       "attrs": {
        "height": 0.862533692722372,
        "width": 0.8909703504043127,
        "x": 0.05754716981132078,
        "y": 0.06765498652291105
       },
       "content": {
        "cell": "4944f869-4080-4947-a6ad-a08c3f2dc6b8",
        "part": "whole"
       },
       "id": "25fb7865-d4e1-4171-b87c-555050a5ca6d"
      }
     }
    },
    "ba488065-74e0-4b8c-98a7-fb8558e1154a": {
     "id": "ba488065-74e0-4b8c-98a7-fb8558e1154a",
     "prev": "bb7e38c1-de6d-4306-8ae3-b5fe3f93bff6",
     "regions": {
      "cb304583-e2bf-48c2-99f0-16105f750e23": {
       "attrs": {
        "height": 0.862533692722372,
        "width": 0.8909703504043127,
        "x": 0.05754716981132078,
        "y": 0.06765498652291105
       },
       "content": {
        "cell": "ec4afe08-74b2-4219-b379-b3a4cfb185c9",
        "part": "whole"
       },
       "id": "cb304583-e2bf-48c2-99f0-16105f750e23"
      }
     }
    },
    "bb7e38c1-de6d-4306-8ae3-b5fe3f93bff6": {
     "id": "bb7e38c1-de6d-4306-8ae3-b5fe3f93bff6",
     "prev": "9418d3f9-1ec7-4989-8e56-dab8e0a74445",
     "regions": {
      "7635dca9-5603-4d55-a537-8399529bde25": {
       "attrs": {
        "height": 0.862533692722372,
        "width": 0.8909703504043127,
        "x": 0.05754716981132078,
        "y": 0.06765498652291105
       },
       "content": {
        "cell": "d194cf53-622d-4d19-a5ea-7bfb4e7cedf1",
        "part": "whole"
       },
       "id": "7635dca9-5603-4d55-a537-8399529bde25"
      }
     }
    },
    "cb28b9cd-b502-4716-9f7b-56621414d63d": {
     "id": "cb28b9cd-b502-4716-9f7b-56621414d63d",
     "prev": null,
     "regions": {
      "f6aa654d-8688-4646-b714-4cc31e207a0e": {
       "attrs": {
        "height": 0.862533692722372,
        "width": 0.8909703504043127,
        "x": 0.05754716981132078,
        "y": 0.06765498652291105
       },
       "content": {
        "cell": "c8a714c5-14b1-4002-862d-8f81edb5674c",
        "part": "whole"
       },
       "id": "f6aa654d-8688-4646-b714-4cc31e207a0e"
      }
     }
    },
    "d1341b75-44ac-4088-af3c-800b55d8ae03": {
     "id": "d1341b75-44ac-4088-af3c-800b55d8ae03",
     "prev": "e8f28b48-a37f-4475-93c7-52c4eb43e063",
     "regions": {
      "042a2844-bd34-4957-af39-c824c7198b77": {
       "attrs": {
        "height": 0.862533692722372,
        "width": 0.8909703504043127,
        "x": 0.05754716981132078,
        "y": 0.06765498652291105
       },
       "content": {
        "cell": "22a2e6a0-950b-436e-ba76-43bdd7f4e917",
        "part": "whole"
       },
       "id": "042a2844-bd34-4957-af39-c824c7198b77"
      }
     }
    },
    "e8f28b48-a37f-4475-93c7-52c4eb43e063": {
     "id": "e8f28b48-a37f-4475-93c7-52c4eb43e063",
     "prev": "69620598-4655-4a65-a2fe-6e709152af57",
     "regions": {
      "c7e8ecf5-cfd4-4d1e-9949-6f80210d5d32": {
       "attrs": {
        "height": 0.862533692722372,
        "width": 0.8909703504043127,
        "x": 0.05754716981132078,
        "y": 0.06765498652291105
       },
       "content": {
        "cell": "34a48ae6-b0f5-4d22-996f-f73960b088e1",
        "part": "whole"
       },
       "id": "c7e8ecf5-cfd4-4d1e-9949-6f80210d5d32"
      }
     }
    }
   },
   "themes": {
    "default": "12eec1f4-2448-4fdf-9ec4-8075829abdca",
    "theme": {
     "12eec1f4-2448-4fdf-9ec4-8075829abdca": {
      "id": "12eec1f4-2448-4fdf-9ec4-8075829abdca",
      "palette": {
       "19cc588f-0593-49c9-9f4b-e4d7cc113b1c": {
        "id": "19cc588f-0593-49c9-9f4b-e4d7cc113b1c",
        "rgb": [
         252,
         252,
         252
        ]
       },
       "31af15d2-7e15-44c5-ab5e-e04b16a89eff": {
        "id": "31af15d2-7e15-44c5-ab5e-e04b16a89eff",
        "rgb": [
         68,
         68,
         68
        ]
       },
       "50f92c45-a630-455b-aec3-788680ec7410": {
        "id": "50f92c45-a630-455b-aec3-788680ec7410",
        "rgb": [
         155,
         177,
         192
        ]
       },
       "c5cc3653-2ee1-402a-aba2-7caae1da4f6c": {
        "id": "c5cc3653-2ee1-402a-aba2-7caae1da4f6c",
        "rgb": [
         43,
         126,
         184
        ]
       },
       "efa7f048-9acb-414c-8b04-a26811511a21": {
        "id": "efa7f048-9acb-414c-8b04-a26811511a21",
        "rgb": [
         25.118061674008803,
         73.60176211453744,
         107.4819383259912
        ]
       }
      },
      "rules": {
       "blockquote": {
        "color": "50f92c45-a630-455b-aec3-788680ec7410"
       },
       "code": {
        "font-family": "Anonymous Pro"
       },
       "h1": {
        "color": "c5cc3653-2ee1-402a-aba2-7caae1da4f6c",
        "font-family": "Lato",
        "font-size": 8
       },
       "h2": {
        "color": "c5cc3653-2ee1-402a-aba2-7caae1da4f6c",
        "font-family": "Lato",
        "font-size": 6
       },
       "h3": {
        "color": "50f92c45-a630-455b-aec3-788680ec7410",
        "font-family": "Lato",
        "font-size": 5.5
       },
       "h4": {
        "color": "c5cc3653-2ee1-402a-aba2-7caae1da4f6c",
        "font-family": "Lato",
        "font-size": 5
       },
       "h5": {
        "font-family": "Lato"
       },
       "h6": {
        "font-family": "Lato"
       },
       "h7": {
        "font-family": "Lato"
       },
       "pre": {
        "font-family": "Anonymous Pro",
        "font-size": 4
       }
      },
      "text-base": {
       "font-family": "Merriweather",
       "font-size": 4
      }
     },
     "513c8753-d394-4ff4-95ce-f452e39334f5": {
      "backgrounds": {
       "backgroundColor": {
        "background-color": "backgroundColor",
        "id": "backgroundColor"
       }
      },
      "id": "513c8753-d394-4ff4-95ce-f452e39334f5",
      "palette": {
       "backgroundColor": {
        "id": "backgroundColor",
        "rgb": [
         17,
         17,
         17
        ]
       },
       "headingColor": {
        "id": "headingColor",
        "rgb": [
         238,
         238,
         238
        ]
       },
       "linkColor": {
        "id": "linkColor",
        "rgb": [
         231,
         173,
         82
        ]
       },
       "mainColor": {
        "id": "mainColor",
        "rgb": [
         238,
         238,
         238
        ]
       }
      },
      "rules": {
       "a": {
        "color": "linkColor"
       },
       "h1": {
        "color": "headingColor",
        "font-family": "Montserrat",
        "font-size": 7
       },
       "h2": {
        "color": "headingColor",
        "font-family": "Montserrat",
        "font-size": 5
       },
       "h3": {
        "color": "headingColor",
        "font-family": "Montserrat",
        "font-size": 3.75
       },
       "h4": {
        "color": "headingColor",
        "font-family": "Montserrat",
        "font-size": 3
       },
       "h5": {
        "color": "headingColor",
        "font-family": "Montserrat"
       },
       "h6": {
        "color": "headingColor",
        "font-family": "Montserrat"
       },
       "h7": {
        "color": "headingColor",
        "font-family": "Montserrat"
       },
       "li": {
        "color": "mainColor",
        "font-family": "Open Sans",
        "font-size": 4
       },
       "p": {
        "color": "mainColor",
        "font-family": "Open Sans",
        "font-size": 4
       }
      },
      "text-base": {
       "color": "mainColor",
       "font-family": "Open Sans",
       "font-size": 4
      }
     },
     "82f1c284-7368-467d-81a6-51fa90d6c991": {
      "backgrounds": {
       "backgroundColor": {
        "background-color": "backgroundColor",
        "id": "backgroundColor"
       }
      },
      "id": "82f1c284-7368-467d-81a6-51fa90d6c991",
      "palette": {
       "backgroundColor": {
        "id": "backgroundColor",
        "rgb": [
         17,
         17,
         17
        ]
       },
       "headingColor": {
        "id": "headingColor",
        "rgb": [
         238,
         238,
         238
        ]
       },
       "linkColor": {
        "id": "linkColor",
        "rgb": [
         231,
         173,
         82
        ]
       },
       "mainColor": {
        "id": "mainColor",
        "rgb": [
         238,
         238,
         238
        ]
       }
      },
      "rules": {
       "a": {
        "color": "linkColor"
       },
       "h1": {
        "color": "headingColor",
        "font-family": "Montserrat",
        "font-size": 7
       },
       "h2": {
        "color": "headingColor",
        "font-family": "Montserrat",
        "font-size": 5
       },
       "h3": {
        "color": "headingColor",
        "font-family": "Montserrat",
        "font-size": 3.75
       },
       "h4": {
        "color": "headingColor",
        "font-family": "Montserrat",
        "font-size": 3
       },
       "h5": {
        "color": "headingColor",
        "font-family": "Montserrat"
       },
       "h6": {
        "color": "headingColor",
        "font-family": "Montserrat"
       },
       "h7": {
        "color": "headingColor",
        "font-family": "Montserrat"
       },
       "li": {
        "color": "mainColor",
        "font-family": "Open Sans",
        "font-size": 4
       },
       "p": {
        "color": "mainColor",
        "font-family": "Open Sans",
        "font-size": 4
       }
      },
      "text-base": {
       "color": "mainColor",
       "font-family": "Open Sans",
       "font-size": 4
      }
     }
    }
   }
  }
 },
 "nbformat": 4,
 "nbformat_minor": 1
}
